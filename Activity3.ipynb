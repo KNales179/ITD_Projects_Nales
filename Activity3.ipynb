{
 "cells": [
  {
   "cell_type": "code",
   "execution_count": 1,
   "id": "56e10fc2-648c-4bb8-80df-3f9f0cdc1699",
   "metadata": {},
   "outputs": [],
   "source": [
    "import numpy as np\n",
    "import seaborn as sbs\n",
    "import pandas as pd\n",
    "import matplotlib.pyplot as plt\n",
    "from scipy.stats import f_oneway\n",
    "import warnings\n",
    "warnings.filterwarnings('ignore')"
   ]
  },
  {
   "cell_type": "code",
   "execution_count": 2,
   "id": "50276f9e-8bcc-4574-8097-7f2d75943a88",
   "metadata": {},
   "outputs": [],
   "source": [
    "accident = pd.read_csv('datasets\\\\accident_data.csv')"
   ]
  },
  {
   "cell_type": "markdown",
   "id": "0710e169-e1f5-4660-9f83-7f6ada02e8ec",
   "metadata": {
    "jp-MarkdownHeadingCollapsed": true
   },
   "source": [
    "# accident"
   ]
  },
  {
   "cell_type": "code",
   "execution_count": 3,
   "id": "6ff4254d-c464-425b-84e5-32b3e4d6a7f0",
   "metadata": {
    "scrolled": true
   },
   "outputs": [
    {
     "data": {
      "text/html": [
       "<div>\n",
       "<style scoped>\n",
       "    .dataframe tbody tr th:only-of-type {\n",
       "        vertical-align: middle;\n",
       "    }\n",
       "\n",
       "    .dataframe tbody tr th {\n",
       "        vertical-align: top;\n",
       "    }\n",
       "\n",
       "    .dataframe thead th {\n",
       "        text-align: right;\n",
       "    }\n",
       "</style>\n",
       "<table border=\"1\" class=\"dataframe\">\n",
       "  <thead>\n",
       "    <tr style=\"text-align: right;\">\n",
       "      <th></th>\n",
       "      <th>Index</th>\n",
       "      <th>Accident_Severity</th>\n",
       "      <th>Accident Date</th>\n",
       "      <th>Latitude</th>\n",
       "      <th>Light_Conditions</th>\n",
       "      <th>District Area</th>\n",
       "      <th>Longitude</th>\n",
       "      <th>Number_of_Casualties</th>\n",
       "      <th>Number_of_Vehicles</th>\n",
       "      <th>Road_Surface_Conditions</th>\n",
       "      <th>Road_Type</th>\n",
       "      <th>Urban_or_Rural_Area</th>\n",
       "      <th>Weather_Conditions</th>\n",
       "      <th>Vehicle_Type</th>\n",
       "    </tr>\n",
       "  </thead>\n",
       "  <tbody>\n",
       "    <tr>\n",
       "      <th>0</th>\n",
       "      <td>200701BS64157</td>\n",
       "      <td>Serious</td>\n",
       "      <td>5/6/2019</td>\n",
       "      <td>51.506187</td>\n",
       "      <td>Darkness - lights lit</td>\n",
       "      <td>Kensington and Chelsea</td>\n",
       "      <td>-0.209082</td>\n",
       "      <td>1</td>\n",
       "      <td>2</td>\n",
       "      <td>Dry</td>\n",
       "      <td>Single carriageway</td>\n",
       "      <td>Urban</td>\n",
       "      <td>Fine no high winds</td>\n",
       "      <td>Car</td>\n",
       "    </tr>\n",
       "    <tr>\n",
       "      <th>1</th>\n",
       "      <td>200701BS65737</td>\n",
       "      <td>Serious</td>\n",
       "      <td>2/7/2019</td>\n",
       "      <td>51.495029</td>\n",
       "      <td>Daylight</td>\n",
       "      <td>Kensington and Chelsea</td>\n",
       "      <td>-0.173647</td>\n",
       "      <td>1</td>\n",
       "      <td>2</td>\n",
       "      <td>Wet or damp</td>\n",
       "      <td>Single carriageway</td>\n",
       "      <td>Urban</td>\n",
       "      <td>Raining no high winds</td>\n",
       "      <td>Car</td>\n",
       "    </tr>\n",
       "    <tr>\n",
       "      <th>2</th>\n",
       "      <td>200701BS66127</td>\n",
       "      <td>Serious</td>\n",
       "      <td>26-08-2019</td>\n",
       "      <td>51.517715</td>\n",
       "      <td>Darkness - lighting unknown</td>\n",
       "      <td>Kensington and Chelsea</td>\n",
       "      <td>-0.210215</td>\n",
       "      <td>1</td>\n",
       "      <td>3</td>\n",
       "      <td>Dry</td>\n",
       "      <td>NaN</td>\n",
       "      <td>Urban</td>\n",
       "      <td>NaN</td>\n",
       "      <td>Taxi/Private hire car</td>\n",
       "    </tr>\n",
       "    <tr>\n",
       "      <th>3</th>\n",
       "      <td>200701BS66128</td>\n",
       "      <td>Serious</td>\n",
       "      <td>16-08-2019</td>\n",
       "      <td>51.495478</td>\n",
       "      <td>Daylight</td>\n",
       "      <td>Kensington and Chelsea</td>\n",
       "      <td>-0.202731</td>\n",
       "      <td>1</td>\n",
       "      <td>4</td>\n",
       "      <td>Dry</td>\n",
       "      <td>Single carriageway</td>\n",
       "      <td>Urban</td>\n",
       "      <td>Fine no high winds</td>\n",
       "      <td>Bus or coach (17 or more pass seats)</td>\n",
       "    </tr>\n",
       "    <tr>\n",
       "      <th>4</th>\n",
       "      <td>200701BS66837</td>\n",
       "      <td>Slight</td>\n",
       "      <td>3/9/2019</td>\n",
       "      <td>51.488576</td>\n",
       "      <td>Darkness - lights lit</td>\n",
       "      <td>Kensington and Chelsea</td>\n",
       "      <td>-0.192487</td>\n",
       "      <td>1</td>\n",
       "      <td>2</td>\n",
       "      <td>Dry</td>\n",
       "      <td>NaN</td>\n",
       "      <td>Urban</td>\n",
       "      <td>NaN</td>\n",
       "      <td>Other vehicle</td>\n",
       "    </tr>\n",
       "    <tr>\n",
       "      <th>...</th>\n",
       "      <td>...</td>\n",
       "      <td>...</td>\n",
       "      <td>...</td>\n",
       "      <td>...</td>\n",
       "      <td>...</td>\n",
       "      <td>...</td>\n",
       "      <td>...</td>\n",
       "      <td>...</td>\n",
       "      <td>...</td>\n",
       "      <td>...</td>\n",
       "      <td>...</td>\n",
       "      <td>...</td>\n",
       "      <td>...</td>\n",
       "      <td>...</td>\n",
       "    </tr>\n",
       "    <tr>\n",
       "      <th>660674</th>\n",
       "      <td>201091NM01760</td>\n",
       "      <td>Slight</td>\n",
       "      <td>18-02-2022</td>\n",
       "      <td>57.374005</td>\n",
       "      <td>Daylight</td>\n",
       "      <td>Highland</td>\n",
       "      <td>-3.467828</td>\n",
       "      <td>2</td>\n",
       "      <td>1</td>\n",
       "      <td>Dry</td>\n",
       "      <td>Single carriageway</td>\n",
       "      <td>Rural</td>\n",
       "      <td>Fine no high winds</td>\n",
       "      <td>Car</td>\n",
       "    </tr>\n",
       "    <tr>\n",
       "      <th>660675</th>\n",
       "      <td>201091NM01881</td>\n",
       "      <td>Slight</td>\n",
       "      <td>21-02-2022</td>\n",
       "      <td>57.232273</td>\n",
       "      <td>Darkness - no lighting</td>\n",
       "      <td>Highland</td>\n",
       "      <td>-3.809281</td>\n",
       "      <td>1</td>\n",
       "      <td>1</td>\n",
       "      <td>Frost or ice</td>\n",
       "      <td>Single carriageway</td>\n",
       "      <td>Rural</td>\n",
       "      <td>Fine no high winds</td>\n",
       "      <td>Car</td>\n",
       "    </tr>\n",
       "    <tr>\n",
       "      <th>660676</th>\n",
       "      <td>201091NM01935</td>\n",
       "      <td>Slight</td>\n",
       "      <td>23-02-2022</td>\n",
       "      <td>57.585044</td>\n",
       "      <td>Daylight</td>\n",
       "      <td>Highland</td>\n",
       "      <td>-3.862727</td>\n",
       "      <td>1</td>\n",
       "      <td>3</td>\n",
       "      <td>Frost or ice</td>\n",
       "      <td>Single carriageway</td>\n",
       "      <td>Rural</td>\n",
       "      <td>Fine no high winds</td>\n",
       "      <td>Car</td>\n",
       "    </tr>\n",
       "    <tr>\n",
       "      <th>660677</th>\n",
       "      <td>201091NM01964</td>\n",
       "      <td>Serious</td>\n",
       "      <td>23-02-2022</td>\n",
       "      <td>57.214898</td>\n",
       "      <td>Darkness - no lighting</td>\n",
       "      <td>Highland</td>\n",
       "      <td>-3.823997</td>\n",
       "      <td>1</td>\n",
       "      <td>2</td>\n",
       "      <td>Wet or damp</td>\n",
       "      <td>Single carriageway</td>\n",
       "      <td>Rural</td>\n",
       "      <td>Fine no high winds</td>\n",
       "      <td>Motorcycle over 500cc</td>\n",
       "    </tr>\n",
       "    <tr>\n",
       "      <th>660678</th>\n",
       "      <td>201091NM02142</td>\n",
       "      <td>Serious</td>\n",
       "      <td>28-02-2022</td>\n",
       "      <td>57.575210</td>\n",
       "      <td>Daylight</td>\n",
       "      <td>Highland</td>\n",
       "      <td>-3.895673</td>\n",
       "      <td>1</td>\n",
       "      <td>1</td>\n",
       "      <td>Wet or damp</td>\n",
       "      <td>Dual carriageway</td>\n",
       "      <td>Rural</td>\n",
       "      <td>Snowing no high winds</td>\n",
       "      <td>Car</td>\n",
       "    </tr>\n",
       "  </tbody>\n",
       "</table>\n",
       "<p>660679 rows × 14 columns</p>\n",
       "</div>"
      ],
      "text/plain": [
       "                Index Accident_Severity Accident Date   Latitude  \\\n",
       "0       200701BS64157           Serious      5/6/2019  51.506187   \n",
       "1       200701BS65737           Serious      2/7/2019  51.495029   \n",
       "2       200701BS66127           Serious    26-08-2019  51.517715   \n",
       "3       200701BS66128           Serious    16-08-2019  51.495478   \n",
       "4       200701BS66837            Slight      3/9/2019  51.488576   \n",
       "...               ...               ...           ...        ...   \n",
       "660674  201091NM01760            Slight    18-02-2022  57.374005   \n",
       "660675  201091NM01881            Slight    21-02-2022  57.232273   \n",
       "660676  201091NM01935            Slight    23-02-2022  57.585044   \n",
       "660677  201091NM01964           Serious    23-02-2022  57.214898   \n",
       "660678  201091NM02142           Serious    28-02-2022  57.575210   \n",
       "\n",
       "                   Light_Conditions           District Area  Longitude  \\\n",
       "0             Darkness - lights lit  Kensington and Chelsea  -0.209082   \n",
       "1                          Daylight  Kensington and Chelsea  -0.173647   \n",
       "2       Darkness - lighting unknown  Kensington and Chelsea  -0.210215   \n",
       "3                          Daylight  Kensington and Chelsea  -0.202731   \n",
       "4             Darkness - lights lit  Kensington and Chelsea  -0.192487   \n",
       "...                             ...                     ...        ...   \n",
       "660674                     Daylight                Highland  -3.467828   \n",
       "660675       Darkness - no lighting                Highland  -3.809281   \n",
       "660676                     Daylight                Highland  -3.862727   \n",
       "660677       Darkness - no lighting                Highland  -3.823997   \n",
       "660678                     Daylight                Highland  -3.895673   \n",
       "\n",
       "        Number_of_Casualties  Number_of_Vehicles Road_Surface_Conditions  \\\n",
       "0                          1                   2                     Dry   \n",
       "1                          1                   2             Wet or damp   \n",
       "2                          1                   3                     Dry   \n",
       "3                          1                   4                     Dry   \n",
       "4                          1                   2                     Dry   \n",
       "...                      ...                 ...                     ...   \n",
       "660674                     2                   1                     Dry   \n",
       "660675                     1                   1            Frost or ice   \n",
       "660676                     1                   3            Frost or ice   \n",
       "660677                     1                   2             Wet or damp   \n",
       "660678                     1                   1             Wet or damp   \n",
       "\n",
       "                 Road_Type Urban_or_Rural_Area     Weather_Conditions  \\\n",
       "0       Single carriageway               Urban     Fine no high winds   \n",
       "1       Single carriageway               Urban  Raining no high winds   \n",
       "2                      NaN               Urban                    NaN   \n",
       "3       Single carriageway               Urban     Fine no high winds   \n",
       "4                      NaN               Urban                    NaN   \n",
       "...                    ...                 ...                    ...   \n",
       "660674  Single carriageway               Rural     Fine no high winds   \n",
       "660675  Single carriageway               Rural     Fine no high winds   \n",
       "660676  Single carriageway               Rural     Fine no high winds   \n",
       "660677  Single carriageway               Rural     Fine no high winds   \n",
       "660678    Dual carriageway               Rural  Snowing no high winds   \n",
       "\n",
       "                                Vehicle_Type  \n",
       "0                                        Car  \n",
       "1                                        Car  \n",
       "2                      Taxi/Private hire car  \n",
       "3       Bus or coach (17 or more pass seats)  \n",
       "4                              Other vehicle  \n",
       "...                                      ...  \n",
       "660674                                   Car  \n",
       "660675                                   Car  \n",
       "660676                                   Car  \n",
       "660677                 Motorcycle over 500cc  \n",
       "660678                                   Car  \n",
       "\n",
       "[660679 rows x 14 columns]"
      ]
     },
     "execution_count": 3,
     "metadata": {},
     "output_type": "execute_result"
    }
   ],
   "source": [
    "accident"
   ]
  },
  {
   "cell_type": "code",
   "execution_count": 4,
   "id": "0bab8146-b853-49bb-b290-0cc4a2553206",
   "metadata": {},
   "outputs": [
    {
     "data": {
      "text/html": [
       "<div>\n",
       "<style scoped>\n",
       "    .dataframe tbody tr th:only-of-type {\n",
       "        vertical-align: middle;\n",
       "    }\n",
       "\n",
       "    .dataframe tbody tr th {\n",
       "        vertical-align: top;\n",
       "    }\n",
       "\n",
       "    .dataframe thead th {\n",
       "        text-align: right;\n",
       "    }\n",
       "</style>\n",
       "<table border=\"1\" class=\"dataframe\">\n",
       "  <thead>\n",
       "    <tr style=\"text-align: right;\">\n",
       "      <th></th>\n",
       "      <th>Latitude</th>\n",
       "      <th>Longitude</th>\n",
       "      <th>Number_of_Casualties</th>\n",
       "      <th>Number_of_Vehicles</th>\n",
       "    </tr>\n",
       "  </thead>\n",
       "  <tbody>\n",
       "    <tr>\n",
       "      <th>count</th>\n",
       "      <td>660654.000000</td>\n",
       "      <td>660653.000000</td>\n",
       "      <td>660679.000000</td>\n",
       "      <td>660679.000000</td>\n",
       "    </tr>\n",
       "    <tr>\n",
       "      <th>mean</th>\n",
       "      <td>52.553866</td>\n",
       "      <td>-1.431210</td>\n",
       "      <td>1.357040</td>\n",
       "      <td>1.831255</td>\n",
       "    </tr>\n",
       "    <tr>\n",
       "      <th>std</th>\n",
       "      <td>1.406922</td>\n",
       "      <td>1.383330</td>\n",
       "      <td>0.824847</td>\n",
       "      <td>0.715269</td>\n",
       "    </tr>\n",
       "    <tr>\n",
       "      <th>min</th>\n",
       "      <td>49.914430</td>\n",
       "      <td>-7.516225</td>\n",
       "      <td>1.000000</td>\n",
       "      <td>1.000000</td>\n",
       "    </tr>\n",
       "    <tr>\n",
       "      <th>25%</th>\n",
       "      <td>51.490690</td>\n",
       "      <td>-2.332291</td>\n",
       "      <td>1.000000</td>\n",
       "      <td>1.000000</td>\n",
       "    </tr>\n",
       "    <tr>\n",
       "      <th>50%</th>\n",
       "      <td>52.315641</td>\n",
       "      <td>-1.411667</td>\n",
       "      <td>1.000000</td>\n",
       "      <td>2.000000</td>\n",
       "    </tr>\n",
       "    <tr>\n",
       "      <th>75%</th>\n",
       "      <td>53.453452</td>\n",
       "      <td>-0.232869</td>\n",
       "      <td>1.000000</td>\n",
       "      <td>2.000000</td>\n",
       "    </tr>\n",
       "    <tr>\n",
       "      <th>max</th>\n",
       "      <td>60.757544</td>\n",
       "      <td>1.762010</td>\n",
       "      <td>68.000000</td>\n",
       "      <td>32.000000</td>\n",
       "    </tr>\n",
       "  </tbody>\n",
       "</table>\n",
       "</div>"
      ],
      "text/plain": [
       "            Latitude      Longitude  Number_of_Casualties  Number_of_Vehicles\n",
       "count  660654.000000  660653.000000         660679.000000       660679.000000\n",
       "mean       52.553866      -1.431210              1.357040            1.831255\n",
       "std         1.406922       1.383330              0.824847            0.715269\n",
       "min        49.914430      -7.516225              1.000000            1.000000\n",
       "25%        51.490690      -2.332291              1.000000            1.000000\n",
       "50%        52.315641      -1.411667              1.000000            2.000000\n",
       "75%        53.453452      -0.232869              1.000000            2.000000\n",
       "max        60.757544       1.762010             68.000000           32.000000"
      ]
     },
     "execution_count": 4,
     "metadata": {},
     "output_type": "execute_result"
    }
   ],
   "source": [
    "accident.describe()"
   ]
  },
  {
   "cell_type": "code",
   "execution_count": 5,
   "id": "485ccbee-9aa3-4d89-ac41-7581e340a958",
   "metadata": {},
   "outputs": [
    {
     "data": {
      "text/plain": [
       "Index                          0\n",
       "Accident_Severity              0\n",
       "Accident Date                  0\n",
       "Latitude                      25\n",
       "Light_Conditions               0\n",
       "District Area                  0\n",
       "Longitude                     26\n",
       "Number_of_Casualties           0\n",
       "Number_of_Vehicles             0\n",
       "Road_Surface_Conditions      726\n",
       "Road_Type                   4520\n",
       "Urban_or_Rural_Area           15\n",
       "Weather_Conditions         14128\n",
       "Vehicle_Type                   0\n",
       "dtype: int64"
      ]
     },
     "execution_count": 5,
     "metadata": {},
     "output_type": "execute_result"
    }
   ],
   "source": [
    "accident.isnull().sum()"
   ]
  },
  {
   "cell_type": "code",
   "execution_count": 6,
   "id": "244be9a5-9b4e-4b5d-a1c5-31679ba37b3a",
   "metadata": {},
   "outputs": [],
   "source": [
    "accident['Latitude'] = accident['Latitude'].fillna(accident['Latitude'].mode()[0])\n",
    "accident['Longitude'] = accident['Longitude'].fillna(accident['Longitude'].mode()[0])\n",
    "accident['Road_Surface_Conditions'] = accident['Road_Surface_Conditions'].fillna(accident['Road_Surface_Conditions'].mode()[0])\n",
    "accident['Urban_or_Rural_Area'] = accident['Urban_or_Rural_Area'].fillna(accident['Urban_or_Rural_Area'].mode()[0])\n",
    "accident['Weather_Conditions'] = accident['Weather_Conditions'].fillna('unaccounted')\n",
    "accident['Road_Type'] = accident['Road_Type'].fillna('unknown')"
   ]
  },
  {
   "cell_type": "code",
   "execution_count": 7,
   "id": "bca848a4-ac0f-4811-9b9c-0806af2ef1cb",
   "metadata": {},
   "outputs": [
    {
     "data": {
      "text/plain": [
       "Index                      0\n",
       "Accident_Severity          0\n",
       "Accident Date              0\n",
       "Latitude                   0\n",
       "Light_Conditions           0\n",
       "District Area              0\n",
       "Longitude                  0\n",
       "Number_of_Casualties       0\n",
       "Number_of_Vehicles         0\n",
       "Road_Surface_Conditions    0\n",
       "Road_Type                  0\n",
       "Urban_or_Rural_Area        0\n",
       "Weather_Conditions         0\n",
       "Vehicle_Type               0\n",
       "dtype: int64"
      ]
     },
     "execution_count": 7,
     "metadata": {},
     "output_type": "execute_result"
    }
   ],
   "source": [
    "accident.isnull().sum()"
   ]
  },
  {
   "cell_type": "code",
   "execution_count": 8,
   "id": "8bb60724-d7a3-4db7-bc92-6d718058df7f",
   "metadata": {},
   "outputs": [
    {
     "data": {
      "text/plain": [
       "Index                       object\n",
       "Accident_Severity           object\n",
       "Accident Date               object\n",
       "Latitude                   float64\n",
       "Light_Conditions            object\n",
       "District Area               object\n",
       "Longitude                  float64\n",
       "Number_of_Casualties         int64\n",
       "Number_of_Vehicles           int64\n",
       "Road_Surface_Conditions     object\n",
       "Road_Type                   object\n",
       "Urban_or_Rural_Area         object\n",
       "Weather_Conditions          object\n",
       "Vehicle_Type                object\n",
       "dtype: object"
      ]
     },
     "execution_count": 8,
     "metadata": {},
     "output_type": "execute_result"
    }
   ],
   "source": [
    "accident.dtypes"
   ]
  },
  {
   "cell_type": "code",
   "execution_count": 9,
   "id": "68a5ec17-fe77-4585-8e65-c3696fa036ac",
   "metadata": {},
   "outputs": [],
   "source": [
    "accident['Accident_Severity'] = accident['Accident_Severity'].astype('category')\n",
    "accident['Light_Conditions'] = accident['Light_Conditions'].astype('category')\n",
    "accident['District Area'] = accident['District Area'].astype('category')\n",
    "accident['Road_Surface_Conditions'] = accident['Road_Surface_Conditions'].astype('category')\n",
    "accident['Road_Type'] = accident['Road_Type'].astype('category')\n",
    "accident['Urban_or_Rural_Area'] = accident['Urban_or_Rural_Area'].astype('category')\n",
    "accident['Vehicle_Type'] = accident['Vehicle_Type'].astype('category')"
   ]
  },
  {
   "cell_type": "code",
   "execution_count": 10,
   "id": "372fefc5-0eb7-429c-88cb-89670bedddc0",
   "metadata": {},
   "outputs": [],
   "source": [
    "accident['Accident Date'] = pd.to_datetime(accident['Accident Date'], dayfirst = True, errors = 'coerce')"
   ]
  },
  {
   "cell_type": "code",
   "execution_count": 11,
   "id": "c1bc6762-5226-4020-9917-6bc2d2437090",
   "metadata": {},
   "outputs": [
    {
     "data": {
      "text/plain": [
       "Index                              object\n",
       "Accident_Severity                category\n",
       "Accident Date              datetime64[ns]\n",
       "Latitude                          float64\n",
       "Light_Conditions                 category\n",
       "District Area                    category\n",
       "Longitude                         float64\n",
       "Number_of_Casualties                int64\n",
       "Number_of_Vehicles                  int64\n",
       "Road_Surface_Conditions          category\n",
       "Road_Type                        category\n",
       "Urban_or_Rural_Area              category\n",
       "Weather_Conditions                 object\n",
       "Vehicle_Type                     category\n",
       "dtype: object"
      ]
     },
     "execution_count": 11,
     "metadata": {},
     "output_type": "execute_result"
    }
   ],
   "source": [
    "accident.dtypes"
   ]
  },
  {
   "cell_type": "markdown",
   "id": "99645c57-9a44-4b65-94d4-ebf7e4cb1c03",
   "metadata": {
    "jp-MarkdownHeadingCollapsed": true
   },
   "source": [
    "<h1>1. Which area is more likely to have an accident, urban or rural?</h1>"
   ]
  },
  {
   "cell_type": "code",
   "execution_count": 12,
   "id": "8822aa9b-96d9-4d4c-84a8-0750ec0613ed",
   "metadata": {},
   "outputs": [
    {
     "data": {
      "text/plain": [
       "Urban_or_Rural_Area\n",
       "Urban          421678\n",
       "Rural          238990\n",
       "Unallocated        11\n",
       "Name: count, dtype: int64"
      ]
     },
     "execution_count": 12,
     "metadata": {},
     "output_type": "execute_result"
    }
   ],
   "source": [
    "accident['Urban_or_Rural_Area'].value_counts()"
   ]
  },
  {
   "cell_type": "code",
   "execution_count": 13,
   "id": "36c8080d-ddb2-4141-add7-61f3633349f7",
   "metadata": {},
   "outputs": [
    {
     "data": {
      "text/plain": [
       "Urban_or_Rural_Area\n",
       "Urban          63.824944\n",
       "Rural          36.173391\n",
       "Unallocated     0.001665\n",
       "Name: count, dtype: float64"
      ]
     },
     "execution_count": 13,
     "metadata": {},
     "output_type": "execute_result"
    }
   ],
   "source": [
    "count = accident['Urban_or_Rural_Area'].value_counts()\n",
    "total = count.sum()\n",
    "percent = (count / total) * 100\n",
    "percent"
   ]
  },
  {
   "cell_type": "code",
   "execution_count": 14,
   "id": "03f3c68a-d400-4b1e-8180-890a5feaa646",
   "metadata": {},
   "outputs": [
    {
     "data": {
      "text/plain": [
       "'Urban'"
      ]
     },
     "execution_count": 14,
     "metadata": {},
     "output_type": "execute_result"
    }
   ],
   "source": [
    "accident['Urban_or_Rural_Area'].value_counts().idxmax()"
   ]
  },
  {
   "cell_type": "markdown",
   "id": "8c69d23a-7c60-4417-925a-3b596e6081d3",
   "metadata": {},
   "source": [
    "<h2>Insight 1: the data show that Urban is more likely to have an accident with 64% of the total accident being record.</h2>\n"
   ]
  },
  {
   "cell_type": "markdown",
   "id": "34c21430-571a-4887-9b96-5ae7c487b9cb",
   "metadata": {},
   "source": [
    "<h1></h1>"
   ]
  },
  {
   "cell_type": "markdown",
   "id": "c20c5156-5adb-4990-8e54-ed673250e63a",
   "metadata": {
    "jp-MarkdownHeadingCollapsed": true
   },
   "source": [
    "<h1>2.Our data shows that Urban is more likely to have an accident, but what about casualties, which Area has more casualty?</h1>"
   ]
  },
  {
   "cell_type": "code",
   "execution_count": 15,
   "id": "f72bd3f9-a914-4b66-bbb1-bf831f877a8d",
   "metadata": {},
   "outputs": [
    {
     "data": {
      "text/plain": [
       "Urban_or_Rural_Area\n",
       "Rural          1.479204\n",
       "Unallocated    1.181818\n",
       "Urban          1.287807\n",
       "Name: Number_of_Casualties, dtype: float64"
      ]
     },
     "execution_count": 15,
     "metadata": {},
     "output_type": "execute_result"
    }
   ],
   "source": [
    "accident.groupby('Urban_or_Rural_Area')['Number_of_Casualties'].mean()"
   ]
  },
  {
   "cell_type": "code",
   "execution_count": 16,
   "id": "657d96ea-d173-42d5-8424-61253cc6856e",
   "metadata": {},
   "outputs": [
    {
     "data": {
      "text/plain": [
       "Urban_or_Rural_Area\n",
       "Rural          37.459306\n",
       "Unallocated    29.928315\n",
       "Urban          32.612379\n",
       "Name: Number_of_Casualties, dtype: float64"
      ]
     },
     "execution_count": 16,
     "metadata": {},
     "output_type": "execute_result"
    }
   ],
   "source": [
    "avg = accident.groupby('Urban_or_Rural_Area')['Number_of_Casualties'].mean()\n",
    "total = avg.sum()\n",
    "percent = (avg / total) * 100\n",
    "percent"
   ]
  },
  {
   "cell_type": "code",
   "execution_count": 17,
   "id": "744b8df8-f373-46f4-a497-28388ef7b1aa",
   "metadata": {},
   "outputs": [
    {
     "data": {
      "text/plain": [
       "'Rural'"
      ]
     },
     "execution_count": 17,
     "metadata": {},
     "output_type": "execute_result"
    }
   ],
   "source": [
    "accident.groupby('Urban_or_Rural_Area')['Number_of_Casualties'].mean().idxmax()"
   ]
  },
  {
   "cell_type": "markdown",
   "id": "802f48f0-cef6-4dd2-a753-125e5200172a",
   "metadata": {
    "jp-MarkdownHeadingCollapsed": true
   },
   "source": [
    "<h3>Insight 2: Now as we can See even though Urban is more likely to have an accident, the data shows that Rural have more casualties with 37% of the total casualties being record.</h3>"
   ]
  },
  {
   "cell_type": "markdown",
   "id": "8d19f276-bff7-4023-a6f8-92b6ef35ad14",
   "metadata": {},
   "source": [
    "<h1></h1>"
   ]
  },
  {
   "cell_type": "markdown",
   "id": "f51c5c51-6f43-4d3b-a4d0-f3a6b0333a7a",
   "metadata": {
    "jp-MarkdownHeadingCollapsed": true
   },
   "source": [
    "<h1>3. now let see about the other concept, let look at the Severity, which Severity is more likely to have casualties</h1>"
   ]
  },
  {
   "cell_type": "code",
   "execution_count": 18,
   "id": "3b156610-b9ce-44ec-850f-aa67f5433b46",
   "metadata": {},
   "outputs": [
    {
     "data": {
      "text/plain": [
       "('Fatal', 'Rural')"
      ]
     },
     "execution_count": 18,
     "metadata": {},
     "output_type": "execute_result"
    }
   ],
   "source": [
    "accident.groupby(['Accident_Severity','Urban_or_Rural_Area'])['Number_of_Casualties'].mean().idxmax()"
   ]
  },
  {
   "cell_type": "code",
   "execution_count": 19,
   "id": "634c0ffa-6fc0-485b-90e1-f020232ca2b3",
   "metadata": {},
   "outputs": [
    {
     "data": {
      "text/plain": [
       "Accident_Severity  Urban_or_Rural_Area\n",
       "Fatal              Rural                  18.145282\n",
       "                   Unallocated                  NaN\n",
       "                   Urban                  13.445978\n",
       "Serious            Rural                  14.572156\n",
       "                   Unallocated             8.662041\n",
       "                   Urban                  11.344510\n",
       "Slight             Rural                  12.325838\n",
       "                   Unallocated            10.394449\n",
       "                   Urban                  11.109746\n",
       "Name: Number_of_Casualties, dtype: float64"
      ]
     },
     "execution_count": 19,
     "metadata": {},
     "output_type": "execute_result"
    }
   ],
   "source": [
    "avg = accident.groupby(['Accident_Severity','Urban_or_Rural_Area'])['Number_of_Casualties'].mean()\n",
    "total = avg.sum()\n",
    "percent = (avg / total) * 100\n",
    "percent"
   ]
  },
  {
   "cell_type": "markdown",
   "id": "5c1871a8-7812-4f32-9f80-889dd56be85d",
   "metadata": {},
   "source": [
    "<h3>Insight 3:now this data shows that, Fatal Accident in Rural Area have more Casualties involve through out the whole record, with 18% of the total record was a fatal accident in Rural Area. Which is obvious since Fatal accident tends to have more casualties than the other other accident severities, what am I even thinking of making this? </h3>"
   ]
  },
  {
   "cell_type": "markdown",
   "id": "39a5db96-c145-4217-bc62-801157e45b50",
   "metadata": {
    "jp-MarkdownHeadingCollapsed": true
   },
   "source": [
    "<h1></h1>"
   ]
  },
  {
   "cell_type": "markdown",
   "id": "7715295b-640a-46a3-8d6b-cf748d5533c2",
   "metadata": {
    "jp-MarkdownHeadingCollapsed": true
   },
   "source": [
    "<h1>4. Now we saw all of that Fatal Accident in Rural Area have more Casualties, lets look at the other factor</h1>\n",
    "<h2>How about which Vehicle? Which Vehicle in Urban And Rural Area are most likely to have accident and Casualties involve?</h2>"
   ]
  },
  {
   "cell_type": "code",
   "execution_count": 20,
   "id": "c80b8411-9f87-4203-a87e-2dd60e739a28",
   "metadata": {},
   "outputs": [],
   "source": [
    "urban = accident[accident['Urban_or_Rural_Area']=='Urban']\n",
    "rural = accident[accident['Urban_or_Rural_Area']=='Rural']"
   ]
  },
  {
   "cell_type": "code",
   "execution_count": 21,
   "id": "2e3cf106-a5bd-4c2f-b862-92aff2a50169",
   "metadata": {},
   "outputs": [
    {
     "data": {
      "text/plain": [
       "('Minibus (8 - 16 passenger seats)', 'Fatal')"
      ]
     },
     "execution_count": 21,
     "metadata": {},
     "output_type": "execute_result"
    }
   ],
   "source": [
    "rural.groupby(['Vehicle_Type','Accident_Severity'])['Number_of_Casualties'].mean().idxmax()"
   ]
  },
  {
   "cell_type": "code",
   "execution_count": 22,
   "id": "b953ccf8-3468-4230-bbb9-d11d7862eac5",
   "metadata": {},
   "outputs": [
    {
     "data": {
      "text/plain": [
       "('Goods over 3.5t. and under 7.5t', 'Fatal')"
      ]
     },
     "execution_count": 22,
     "metadata": {},
     "output_type": "execute_result"
    }
   ],
   "source": [
    "urban.groupby(['Vehicle_Type','Accident_Severity'])['Number_of_Casualties'].mean().idxmax()"
   ]
  },
  {
   "cell_type": "code",
   "execution_count": 23,
   "id": "3f4044c2-cdc3-42f6-bb4b-142616299c4b",
   "metadata": {},
   "outputs": [
    {
     "data": {
      "text/plain": [
       "Vehicle_Type                      Accident_Severity\n",
       "Minibus (8 - 16 passenger seats)  Fatal                4.514994\n",
       "Name: Number_of_Casualties, dtype: float64"
      ]
     },
     "execution_count": 23,
     "metadata": {},
     "output_type": "execute_result"
    }
   ],
   "source": [
    "avg = rural.groupby(['Vehicle_Type','Accident_Severity'])['Number_of_Casualties'].mean()\n",
    "total = avg.sum()\n",
    "percent = (avg / total) * 100\n",
    "percent.nlargest(1)"
   ]
  },
  {
   "cell_type": "code",
   "execution_count": 24,
   "id": "7a473071-87d7-417c-b9dd-08dd8079e1a6",
   "metadata": {},
   "outputs": [
    {
     "data": {
      "text/plain": [
       "Vehicle_Type                     Accident_Severity\n",
       "Goods over 3.5t. and under 7.5t  Fatal                3.379246\n",
       "Name: Number_of_Casualties, dtype: float64"
      ]
     },
     "execution_count": 24,
     "metadata": {},
     "output_type": "execute_result"
    }
   ],
   "source": [
    "avg = urban.groupby(['Vehicle_Type','Accident_Severity'])['Number_of_Casualties'].mean()\n",
    "total = avg.sum()\n",
    "percent = (avg / total) * 100\n",
    "percent.nlargest(1)"
   ]
  },
  {
   "cell_type": "markdown",
   "id": "aa872b48-76d5-45e5-b057-5b016f15ddfe",
   "metadata": {
    "jp-MarkdownHeadingCollapsed": true
   },
   "source": [
    "<h3>Insight 4: Now as we can See the Minibus has the highest rate of casualties being record as 4.5% of the total casualties in Rural Area is involved an Fatal Accident.</h3>\n",
    "<h3>And in Urban Area we can also See that Vehicle that is Goods over 3.5t. and under 7.5t has the highest rate of casualties being record as 3.4% of the total casualties in Urban area is involved in a fatal accident.</h3>\n",
    "\n",
    "<h4>There for conclude that Minibus (8 - 16 passenger seats) and Vehicle that is Goods over 3.5t. and under 7.5t is more likely to have an accident.</h4>"
   ]
  },
  {
   "cell_type": "markdown",
   "id": "73f388a7-db9a-448c-bb43-2b9b831abd0e",
   "metadata": {},
   "source": [
    "<h1></h1>"
   ]
  },
  {
   "cell_type": "markdown",
   "id": "f6f13e76-f04a-4fac-9378-d490b23196c4",
   "metadata": {
    "jp-MarkdownHeadingCollapsed": true
   },
   "source": [
    "<h1>5.Now How about the total on all of the accident record, which Vehicle has more Casualties involve in urban and rural?</h1>"
   ]
  },
  {
   "cell_type": "code",
   "execution_count": 25,
   "id": "9e64ded0-bacc-4a10-9bcf-f897d2a12df5",
   "metadata": {},
   "outputs": [
    {
     "data": {
      "text/plain": [
       "Vehicle_Type\n",
       "Data missing or out of range    1.500000\n",
       "Motorcycle over 500cc           1.296467\n",
       "Taxi/Private hire car           1.296391\n",
       "Name: Number_of_Casualties, dtype: float64"
      ]
     },
     "execution_count": 25,
     "metadata": {},
     "output_type": "execute_result"
    }
   ],
   "source": [
    "urban.groupby('Vehicle_Type')['Number_of_Casualties'].mean().nlargest(3)"
   ]
  },
  {
   "cell_type": "code",
   "execution_count": 26,
   "id": "1e5d1ee5-f5b8-435b-8d15-72cb218f8894",
   "metadata": {},
   "outputs": [
    {
     "data": {
      "text/plain": [
       "Vehicle_Type\n",
       "Ridden horse             2.000000\n",
       "Pedal cycle              1.514286\n",
       "Taxi/Private hire car    1.501817\n",
       "Name: Number_of_Casualties, dtype: float64"
      ]
     },
     "execution_count": 26,
     "metadata": {},
     "output_type": "execute_result"
    }
   ],
   "source": [
    "rural.groupby('Vehicle_Type')['Number_of_Casualties'].mean().nlargest(3)"
   ]
  },
  {
   "cell_type": "code",
   "execution_count": 27,
   "id": "4e2077f6-dc67-4ee0-87c8-584155e58ff1",
   "metadata": {},
   "outputs": [
    {
     "data": {
      "text/plain": [
       "Vehicle_Type\n",
       "Agricultural vehicle                     6.286426\n",
       "Bus or coach (17 or more pass seats)     6.242696\n",
       "Car                                      6.282796\n",
       "Data missing or out of range             7.313720\n",
       "Goods 7.5 tonnes mgw and over            6.306507\n",
       "Goods over 3.5t. and under 7.5t          6.257546\n",
       "Minibus (8 - 16 passenger seats)         6.309876\n",
       "Motorcycle 125cc and under               6.171621\n",
       "Motorcycle 50cc and under                6.201142\n",
       "Motorcycle over 125cc and up to 500cc    6.262612\n",
       "Motorcycle over 500cc                    6.321332\n",
       "Other vehicle                            6.287832\n",
       "Pedal cycle                              6.296326\n",
       "Ridden horse                             4.875814\n",
       "Taxi/Private hire car                    6.320960\n",
       "Van / Goods 3.5 tonnes mgw or under      6.262793\n",
       "Name: Number_of_Casualties, dtype: float64"
      ]
     },
     "execution_count": 27,
     "metadata": {},
     "output_type": "execute_result"
    }
   ],
   "source": [
    "avg = urban.groupby('Vehicle_Type')['Number_of_Casualties'].mean()\n",
    "total = avg.sum()\n",
    "percent = (avg / total) * 100\n",
    "percent"
   ]
  },
  {
   "cell_type": "code",
   "execution_count": 28,
   "id": "5f66c0e5-f160-4490-b653-b34c45878551",
   "metadata": {},
   "outputs": [
    {
     "data": {
      "text/plain": [
       "Vehicle_Type\n",
       "Agricultural vehicle                     6.286426\n",
       "Bus or coach (17 or more pass seats)     6.242696\n",
       "Car                                      6.282796\n",
       "Data missing or out of range             7.313720\n",
       "Goods 7.5 tonnes mgw and over            6.306507\n",
       "Goods over 3.5t. and under 7.5t          6.257546\n",
       "Minibus (8 - 16 passenger seats)         6.309876\n",
       "Motorcycle 125cc and under               6.171621\n",
       "Motorcycle 50cc and under                6.201142\n",
       "Motorcycle over 125cc and up to 500cc    6.262612\n",
       "Motorcycle over 500cc                    6.321332\n",
       "Other vehicle                            6.287832\n",
       "Pedal cycle                              6.296326\n",
       "Ridden horse                             4.875814\n",
       "Taxi/Private hire car                    6.320960\n",
       "Van / Goods 3.5 tonnes mgw or under      6.262793\n",
       "Name: Number_of_Casualties, dtype: float64"
      ]
     },
     "execution_count": 28,
     "metadata": {},
     "output_type": "execute_result"
    }
   ],
   "source": [
    "avg = urban.groupby('Vehicle_Type')['Number_of_Casualties'].mean()\n",
    "total = avg.sum()\n",
    "percent = (avg / total) * 100\n",
    "percent"
   ]
  },
  {
   "cell_type": "code",
   "execution_count": 29,
   "id": "93fbcf8a-fd00-445c-8284-d23c35758d79",
   "metadata": {},
   "outputs": [
    {
     "data": {
      "text/html": [
       "<div>\n",
       "<style scoped>\n",
       "    .dataframe tbody tr th:only-of-type {\n",
       "        vertical-align: middle;\n",
       "    }\n",
       "\n",
       "    .dataframe tbody tr th {\n",
       "        vertical-align: top;\n",
       "    }\n",
       "\n",
       "    .dataframe thead th {\n",
       "        text-align: right;\n",
       "    }\n",
       "</style>\n",
       "<table border=\"1\" class=\"dataframe\">\n",
       "  <thead>\n",
       "    <tr style=\"text-align: right;\">\n",
       "      <th></th>\n",
       "      <th>Urban Percentage</th>\n",
       "    </tr>\n",
       "    <tr>\n",
       "      <th>Vehicle_Type</th>\n",
       "      <th></th>\n",
       "    </tr>\n",
       "  </thead>\n",
       "  <tbody>\n",
       "    <tr>\n",
       "      <th>Data missing or out of range</th>\n",
       "      <td>7.313720</td>\n",
       "    </tr>\n",
       "    <tr>\n",
       "      <th>Motorcycle over 500cc</th>\n",
       "      <td>6.321332</td>\n",
       "    </tr>\n",
       "    <tr>\n",
       "      <th>Taxi/Private hire car</th>\n",
       "      <td>6.320960</td>\n",
       "    </tr>\n",
       "    <tr>\n",
       "      <th>Minibus (8 - 16 passenger seats)</th>\n",
       "      <td>6.309876</td>\n",
       "    </tr>\n",
       "    <tr>\n",
       "      <th>Goods 7.5 tonnes mgw and over</th>\n",
       "      <td>6.306507</td>\n",
       "    </tr>\n",
       "    <tr>\n",
       "      <th>Pedal cycle</th>\n",
       "      <td>6.296326</td>\n",
       "    </tr>\n",
       "    <tr>\n",
       "      <th>Other vehicle</th>\n",
       "      <td>6.287832</td>\n",
       "    </tr>\n",
       "    <tr>\n",
       "      <th>Agricultural vehicle</th>\n",
       "      <td>6.286426</td>\n",
       "    </tr>\n",
       "    <tr>\n",
       "      <th>Car</th>\n",
       "      <td>6.282796</td>\n",
       "    </tr>\n",
       "    <tr>\n",
       "      <th>Van / Goods 3.5 tonnes mgw or under</th>\n",
       "      <td>6.262793</td>\n",
       "    </tr>\n",
       "    <tr>\n",
       "      <th>Motorcycle over 125cc and up to 500cc</th>\n",
       "      <td>6.262612</td>\n",
       "    </tr>\n",
       "    <tr>\n",
       "      <th>Goods over 3.5t. and under 7.5t</th>\n",
       "      <td>6.257546</td>\n",
       "    </tr>\n",
       "    <tr>\n",
       "      <th>Bus or coach (17 or more pass seats)</th>\n",
       "      <td>6.242696</td>\n",
       "    </tr>\n",
       "    <tr>\n",
       "      <th>Motorcycle 50cc and under</th>\n",
       "      <td>6.201142</td>\n",
       "    </tr>\n",
       "    <tr>\n",
       "      <th>Motorcycle 125cc and under</th>\n",
       "      <td>6.171621</td>\n",
       "    </tr>\n",
       "    <tr>\n",
       "      <th>Ridden horse</th>\n",
       "      <td>4.875814</td>\n",
       "    </tr>\n",
       "  </tbody>\n",
       "</table>\n",
       "</div>"
      ],
      "text/plain": [
       "                                       Urban Percentage\n",
       "Vehicle_Type                                           \n",
       "Data missing or out of range                   7.313720\n",
       "Motorcycle over 500cc                          6.321332\n",
       "Taxi/Private hire car                          6.320960\n",
       "Minibus (8 - 16 passenger seats)               6.309876\n",
       "Goods 7.5 tonnes mgw and over                  6.306507\n",
       "Pedal cycle                                    6.296326\n",
       "Other vehicle                                  6.287832\n",
       "Agricultural vehicle                           6.286426\n",
       "Car                                            6.282796\n",
       "Van / Goods 3.5 tonnes mgw or under            6.262793\n",
       "Motorcycle over 125cc and up to 500cc          6.262612\n",
       "Goods over 3.5t. and under 7.5t                6.257546\n",
       "Bus or coach (17 or more pass seats)           6.242696\n",
       "Motorcycle 50cc and under                      6.201142\n",
       "Motorcycle 125cc and under                     6.171621\n",
       "Ridden horse                                   4.875814"
      ]
     },
     "metadata": {},
     "output_type": "display_data"
    },
    {
     "data": {
      "text/html": [
       "<div>\n",
       "<style scoped>\n",
       "    .dataframe tbody tr th:only-of-type {\n",
       "        vertical-align: middle;\n",
       "    }\n",
       "\n",
       "    .dataframe tbody tr th {\n",
       "        vertical-align: top;\n",
       "    }\n",
       "\n",
       "    .dataframe thead th {\n",
       "        text-align: right;\n",
       "    }\n",
       "</style>\n",
       "<table border=\"1\" class=\"dataframe\">\n",
       "  <thead>\n",
       "    <tr style=\"text-align: right;\">\n",
       "      <th></th>\n",
       "      <th>Rural Percentage</th>\n",
       "    </tr>\n",
       "    <tr>\n",
       "      <th>Vehicle_Type</th>\n",
       "      <th></th>\n",
       "    </tr>\n",
       "  </thead>\n",
       "  <tbody>\n",
       "    <tr>\n",
       "      <th>Ridden horse</th>\n",
       "      <td>8.857738</td>\n",
       "    </tr>\n",
       "    <tr>\n",
       "      <th>Pedal cycle</th>\n",
       "      <td>6.706573</td>\n",
       "    </tr>\n",
       "    <tr>\n",
       "      <th>Taxi/Private hire car</th>\n",
       "      <td>6.651353</td>\n",
       "    </tr>\n",
       "    <tr>\n",
       "      <th>Goods over 3.5t. and under 7.5t</th>\n",
       "      <td>6.645288</td>\n",
       "    </tr>\n",
       "    <tr>\n",
       "      <th>Van / Goods 3.5 tonnes mgw or under</th>\n",
       "      <td>6.560964</td>\n",
       "    </tr>\n",
       "    <tr>\n",
       "      <th>Car</th>\n",
       "      <td>6.558900</td>\n",
       "    </tr>\n",
       "    <tr>\n",
       "      <th>Bus or coach (17 or more pass seats)</th>\n",
       "      <td>6.545402</td>\n",
       "    </tr>\n",
       "    <tr>\n",
       "      <th>Motorcycle over 500cc</th>\n",
       "      <td>6.540704</td>\n",
       "    </tr>\n",
       "    <tr>\n",
       "      <th>Motorcycle 125cc and under</th>\n",
       "      <td>6.506197</td>\n",
       "    </tr>\n",
       "    <tr>\n",
       "      <th>Goods 7.5 tonnes mgw and over</th>\n",
       "      <td>6.456249</td>\n",
       "    </tr>\n",
       "    <tr>\n",
       "      <th>Motorcycle 50cc and under</th>\n",
       "      <td>6.445557</td>\n",
       "    </tr>\n",
       "    <tr>\n",
       "      <th>Motorcycle over 125cc and up to 500cc</th>\n",
       "      <td>6.437926</td>\n",
       "    </tr>\n",
       "    <tr>\n",
       "      <th>Agricultural vehicle</th>\n",
       "      <td>6.384133</td>\n",
       "    </tr>\n",
       "    <tr>\n",
       "      <th>Minibus (8 - 16 passenger seats)</th>\n",
       "      <td>6.359560</td>\n",
       "    </tr>\n",
       "    <tr>\n",
       "      <th>Other vehicle</th>\n",
       "      <td>6.343456</td>\n",
       "    </tr>\n",
       "    <tr>\n",
       "      <th>Data missing or out of range</th>\n",
       "      <td>NaN</td>\n",
       "    </tr>\n",
       "  </tbody>\n",
       "</table>\n",
       "</div>"
      ],
      "text/plain": [
       "                                       Rural Percentage\n",
       "Vehicle_Type                                           \n",
       "Ridden horse                                   8.857738\n",
       "Pedal cycle                                    6.706573\n",
       "Taxi/Private hire car                          6.651353\n",
       "Goods over 3.5t. and under 7.5t                6.645288\n",
       "Van / Goods 3.5 tonnes mgw or under            6.560964\n",
       "Car                                            6.558900\n",
       "Bus or coach (17 or more pass seats)           6.545402\n",
       "Motorcycle over 500cc                          6.540704\n",
       "Motorcycle 125cc and under                     6.506197\n",
       "Goods 7.5 tonnes mgw and over                  6.456249\n",
       "Motorcycle 50cc and under                      6.445557\n",
       "Motorcycle over 125cc and up to 500cc          6.437926\n",
       "Agricultural vehicle                           6.384133\n",
       "Minibus (8 - 16 passenger seats)               6.359560\n",
       "Other vehicle                                  6.343456\n",
       "Data missing or out of range                        NaN"
      ]
     },
     "metadata": {},
     "output_type": "display_data"
    }
   ],
   "source": [
    "urban_avg = urban.groupby('Vehicle_Type')['Number_of_Casualties'].mean()\n",
    "rural_avg = rural.groupby('Vehicle_Type')['Number_of_Casualties'].mean()\n",
    "\n",
    "urban_total = urban_avg.sum()\n",
    "rural_total = rural_avg.sum()\n",
    "\n",
    "urban_percent = (urban_avg / urban_total) * 100\n",
    "rural_percent = (rural_avg / rural_total) * 100\n",
    "urban_table = pd.DataFrame({'Urban Percentage': urban_percent}).sort_values(by='Urban Percentage', ascending=False)\n",
    "rural_table = pd.DataFrame({'Rural Percentage': rural_percent}).sort_values(by='Rural Percentage', ascending=False)\n",
    "display(urban_table)\n",
    "display(rural_table)\n"
   ]
  },
  {
   "cell_type": "markdown",
   "id": "4f92daa8-64ef-45c3-8934-e5ef6ac1bf73",
   "metadata": {},
   "source": [
    "<h3>Insight 5: Based on our data, it is shown that in Urban Area, Motorcycle over 500cc and Taxi/Private hire car have more Casualties Total being record</h3>\n",
    "<h3>And in Rural Area Pedal cycle and Taxi/Private hire car have more Casualties Total being record </h3>"
   ]
  },
  {
   "cell_type": "markdown",
   "id": "40294292-11fe-4bea-9271-888f10616357",
   "metadata": {},
   "source": [
    "<h1></h1>"
   ]
  },
  {
   "cell_type": "markdown",
   "id": "76724a3e-94a1-4152-981d-656204e5d90d",
   "metadata": {
    "jp-MarkdownHeadingCollapsed": true
   },
   "source": [
    "<h1>6. Since we are Talking about Vehicle, how about looking at which Vehicle cause more, fatal accident, Serious accident and Slight accident</h1>"
   ]
  },
  {
   "cell_type": "code",
   "execution_count": 30,
   "id": "306b0c81-9c99-4945-8dc8-bf6a141b0874",
   "metadata": {},
   "outputs": [],
   "source": [
    "Fatal = accident[accident['Accident_Severity']=='Fatal']\n",
    "Serious = accident[accident['Accident_Severity']=='Serious']\n",
    "Slight = accident[accident['Accident_Severity']=='Slight']"
   ]
  },
  {
   "cell_type": "code",
   "execution_count": 31,
   "id": "ca0cb8cc-bfec-470a-bd39-af121bfbb249",
   "metadata": {},
   "outputs": [
    {
     "data": {
      "text/plain": [
       "Vehicle_Type\n",
       "Car                                     6577\n",
       "Van / Goods 3.5 tonnes mgw or under      467\n",
       "Motorcycle over 500cc                    339\n",
       "Bus or coach (17 or more pass seats)     325\n",
       "Goods 7.5 tonnes mgw and over            216\n",
       "Name: count, dtype: int64"
      ]
     },
     "execution_count": 31,
     "metadata": {},
     "output_type": "execute_result"
    }
   ],
   "source": [
    "Fatal['Vehicle_Type'].value_counts().nlargest(5)"
   ]
  },
  {
   "cell_type": "code",
   "execution_count": 32,
   "id": "2234861b-ac9e-4943-9da0-cfacc08bace7",
   "metadata": {},
   "outputs": [
    {
     "data": {
      "text/plain": [
       "Vehicle_Type\n",
       "Car                                     66461\n",
       "Van / Goods 3.5 tonnes mgw or under      4554\n",
       "Motorcycle over 500cc                    3457\n",
       "Bus or coach (17 or more pass seats)     3373\n",
       "Goods 7.5 tonnes mgw and over            2321\n",
       "Name: count, dtype: int64"
      ]
     },
     "execution_count": 32,
     "metadata": {},
     "output_type": "execute_result"
    }
   ],
   "source": [
    "Serious['Vehicle_Type'].value_counts().nlargest(5)"
   ]
  },
  {
   "cell_type": "code",
   "execution_count": 33,
   "id": "08e7e154-c85c-495e-9b87-a7302b8b0d6f",
   "metadata": {},
   "outputs": [
    {
     "data": {
      "text/plain": [
       "Vehicle_Type\n",
       "Car                                     424954\n",
       "Van / Goods 3.5 tonnes mgw or under      29139\n",
       "Bus or coach (17 or more pass seats)     22180\n",
       "Motorcycle over 500cc                    21861\n",
       "Goods 7.5 tonnes mgw and over            14770\n",
       "Name: count, dtype: int64"
      ]
     },
     "execution_count": 33,
     "metadata": {},
     "output_type": "execute_result"
    }
   ],
   "source": [
    "Slight['Vehicle_Type'].value_counts().nlargest(5)"
   ]
  },
  {
   "cell_type": "markdown",
   "id": "ba8780a5-a749-4173-bfa2-b7075af067d4",
   "metadata": {},
   "source": [
    "<h3>Insight 6: Car have serious Issue, it is shown that In all Accident Severity, Car is more likely to have an accident, as well as Van / Goods 3.5 tonnes mgw or under </h3>"
   ]
  },
  {
   "cell_type": "code",
   "execution_count": 34,
   "id": "d5fe9586-bc29-4af8-87c2-cc48ad4300c2",
   "metadata": {},
   "outputs": [
    {
     "data": {
      "text/plain": [
       "Accident_Severity\n",
       "Slight     563801\n",
       "Serious     88217\n",
       "Fatal        8661\n",
       "Name: count, dtype: int64"
      ]
     },
     "execution_count": 34,
     "metadata": {},
     "output_type": "execute_result"
    }
   ],
   "source": [
    "accident['Accident_Severity'].value_counts()"
   ]
  },
  {
   "cell_type": "code",
   "execution_count": 35,
   "id": "d3a65320-4507-4247-bcb1-62befcfc5bf2",
   "metadata": {},
   "outputs": [
    {
     "data": {
      "text/plain": [
       "'Slight'"
      ]
     },
     "execution_count": 35,
     "metadata": {},
     "output_type": "execute_result"
    }
   ],
   "source": [
    "accident['Accident_Severity'].value_counts().idxmax()"
   ]
  },
  {
   "cell_type": "markdown",
   "id": "a8849cfb-b4a4-48e5-9b49-c97643ee0710",
   "metadata": {},
   "source": [
    "<h2>Insight 6: The most common accident severity to cause is Slight Accident</h2>"
   ]
  },
  {
   "cell_type": "markdown",
   "id": "c1b0ccc6-47e4-4b51-98e1-cc6ffff5bdc9",
   "metadata": {},
   "source": [
    "<h1></h1>"
   ]
  },
  {
   "cell_type": "markdown",
   "id": "0b683140-dad3-4e7c-8362-1762af740dac",
   "metadata": {
    "jp-MarkdownHeadingCollapsed": true
   },
   "source": [
    "<h1>7. Let stop on Vehicle for now, lets talk about Road Type now, Which Road Type as well as their conditions cause more fatal, serious, and slight accident? </h1>"
   ]
  },
  {
   "cell_type": "code",
   "execution_count": 36,
   "id": "6fdfc011-056e-48c6-a5cd-f656774cd41a",
   "metadata": {},
   "outputs": [
    {
     "data": {
      "text/plain": [
       "Road_Type           Road_Surface_Conditions\n",
       "Single carriageway  Dry                        4338\n",
       "                    Wet or damp                1993\n",
       "Dual carriageway    Dry                        1217\n",
       "                    Wet or damp                 551\n",
       "Single carriageway  Frost or ice                153\n",
       "dtype: int64"
      ]
     },
     "execution_count": 36,
     "metadata": {},
     "output_type": "execute_result"
    }
   ],
   "source": [
    "Fatal.groupby(['Road_Type', 'Road_Surface_Conditions']).size().nlargest(5)"
   ]
  },
  {
   "cell_type": "code",
   "execution_count": 37,
   "id": "595d687f-f320-457b-8281-99ceb1425ab3",
   "metadata": {},
   "outputs": [
    {
     "data": {
      "text/plain": [
       "Road_Type           Road_Surface_Conditions\n",
       "Single carriageway  Dry                        48926\n",
       "                    Wet or damp                18952\n",
       "Dual carriageway    Dry                         8104\n",
       "                    Wet or damp                 3233\n",
       "Roundabout          Dry                         2640\n",
       "dtype: int64"
      ]
     },
     "execution_count": 37,
     "metadata": {},
     "output_type": "execute_result"
    }
   ],
   "source": [
    "Serious.groupby(['Road_Type', 'Road_Surface_Conditions']).size().nlargest(5)"
   ]
  },
  {
   "cell_type": "code",
   "execution_count": 38,
   "id": "079336e2-1d03-4097-b7d4-8ee5cab8c4d8",
   "metadata": {},
   "outputs": [
    {
     "data": {
      "text/plain": [
       "Road_Type           Road_Surface_Conditions\n",
       "Single carriageway  Dry                        279961\n",
       "                    Wet or damp                117798\n",
       "Dual carriageway    Dry                         56951\n",
       "Roundabout          Dry                         28034\n",
       "Dual carriageway    Wet or damp                 25749\n",
       "dtype: int64"
      ]
     },
     "execution_count": 38,
     "metadata": {},
     "output_type": "execute_result"
    }
   ],
   "source": [
    "Slight.groupby(['Road_Type', 'Road_Surface_Conditions']).size().nlargest(5)"
   ]
  },
  {
   "cell_type": "markdown",
   "id": "c95e570a-973a-476b-9bf7-ea6df194ef09",
   "metadata": {
    "jp-MarkdownHeadingCollapsed": true
   },
   "source": [
    "<h3>Insight 7: Hhhmmmm this is interesting, I think the City or the Country need to do something about those results, since it shown that Single and Dual carriageway cause too much accident when they are Dry or 'Wet or damp'. either Fatal or Serious or Slight Accident, they mostly cause the accidents</h3>"
   ]
  },
  {
   "cell_type": "markdown",
   "id": "d4aa931e-6d33-47eb-a421-8ee856a62dd3",
   "metadata": {},
   "source": [
    "<h1></h1>"
   ]
  },
  {
   "cell_type": "markdown",
   "id": "9423812e-2859-419f-916c-3b3829933291",
   "metadata": {
    "jp-MarkdownHeadingCollapsed": true
   },
   "source": [
    "<h1>8. And in urban and Rural which Road Types as well as their Conditions Cause more Accident?</h1>"
   ]
  },
  {
   "cell_type": "code",
   "execution_count": 39,
   "id": "faf1d4b3-288d-4a68-8ed0-0cecf264bafc",
   "metadata": {},
   "outputs": [
    {
     "data": {
      "text/plain": [
       "Road_Type           Road_Surface_Conditions\n",
       "Single carriageway  Dry                        234694\n",
       "                    Wet or damp                 81073\n",
       "Dual carriageway    Dry                         35062\n",
       "Roundabout          Dry                         19808\n",
       "Dual carriageway    Wet or damp                 14394\n",
       "One way street      Dry                          9270\n",
       "Roundabout          Wet or damp                  8022\n",
       "Single carriageway  Frost or ice                 5956\n",
       "One way street      Wet or damp                  2869\n",
       "unknown             Dry                          2646\n",
       "dtype: int64"
      ]
     },
     "execution_count": 39,
     "metadata": {},
     "output_type": "execute_result"
    }
   ],
   "source": [
    "urban.groupby(['Road_Type', 'Road_Surface_Conditions']).size().nlargest(10)"
   ]
  },
  {
   "cell_type": "code",
   "execution_count": 40,
   "id": "17e136a9-3308-4b59-bf74-aec0a5a17c0d",
   "metadata": {},
   "outputs": [
    {
     "data": {
      "text/plain": [
       "Road_Type           Road_Surface_Conditions\n",
       "Single carriageway  Dry                        98526\n",
       "                    Wet or damp                57666\n",
       "Dual carriageway    Dry                        31210\n",
       "                    Wet or damp                15139\n",
       "Roundabout          Dry                        10976\n",
       "Single carriageway  Frost or ice                8962\n",
       "Roundabout          Wet or damp                 4186\n",
       "Slip road           Dry                         2803\n",
       "Single carriageway  Snow                        2325\n",
       "Dual carriageway    Frost or ice                1498\n",
       "dtype: int64"
      ]
     },
     "execution_count": 40,
     "metadata": {},
     "output_type": "execute_result"
    }
   ],
   "source": [
    "rural.groupby(['Road_Type', 'Road_Surface_Conditions']).size().nlargest(10)"
   ]
  },
  {
   "cell_type": "markdown",
   "id": "5104292e-2fb9-4d7a-90ac-3f8c8fb3e70c",
   "metadata": {
    "jp-MarkdownHeadingCollapsed": true
   },
   "source": [
    "<h3>Insight 8: Well that's to be expected, Single and Dual carriageway when they are either Dry or 'Wet or damp' Causes more accident through out the whole record.</h3>"
   ]
  },
  {
   "cell_type": "markdown",
   "id": "1f0af245-f4a9-41d9-9cbe-f64bad4ae08f",
   "metadata": {},
   "source": [
    "<h1></h1>"
   ]
  },
  {
   "cell_type": "markdown",
   "id": "666320cb-7487-4af5-9047-9da39408fcd4",
   "metadata": {
    "jp-MarkdownHeadingCollapsed": true
   },
   "source": [
    "<h1>9. Since we have those record where we saw that Single and Dual carriageway cause more accident than the rest of the other road, let see which type of Vehicle is more likely to have an accident on those road </h1>"
   ]
  },
  {
   "cell_type": "code",
   "execution_count": 41,
   "id": "cacb0dd6-2147-49f6-8b04-56ce2c4676a2",
   "metadata": {},
   "outputs": [],
   "source": [
    "single = accident[accident['Road_Type']=='Single carriageway']\n",
    "dual = accident[accident['Road_Type']=='Dual carriageway']"
   ]
  },
  {
   "cell_type": "code",
   "execution_count": 42,
   "id": "7b6ed2f3-4209-4c7a-8459-2408f204fe2c",
   "metadata": {},
   "outputs": [
    {
     "data": {
      "text/plain": [
       "Vehicle_Type\n",
       "Car                                     371028\n",
       "Van / Goods 3.5 tonnes mgw or under      25460\n",
       "Bus or coach (17 or more pass seats)     19090\n",
       "Motorcycle over 500cc                    19050\n",
       "Goods 7.5 tonnes mgw and over            12915\n",
       "Name: count, dtype: int64"
      ]
     },
     "execution_count": 42,
     "metadata": {},
     "output_type": "execute_result"
    }
   ],
   "source": [
    "single['Vehicle_Type'].value_counts().nlargest(5)"
   ]
  },
  {
   "cell_type": "code",
   "execution_count": 43,
   "id": "50f9071a-7657-4975-90d1-38f3f8f8d086",
   "metadata": {},
   "outputs": [
    {
     "data": {
      "text/plain": [
       "Vehicle_Type\n",
       "Car                                     74820\n",
       "Van / Goods 3.5 tonnes mgw or under      5107\n",
       "Bus or coach (17 or more pass seats)     4043\n",
       "Motorcycle over 500cc                    3930\n",
       "Goods 7.5 tonnes mgw and over            2631\n",
       "Name: count, dtype: int64"
      ]
     },
     "execution_count": 43,
     "metadata": {},
     "output_type": "execute_result"
    }
   ],
   "source": [
    "dual['Vehicle_Type'].value_counts().nlargest(5)"
   ]
  },
  {
   "cell_type": "markdown",
   "id": "2ea2f7c9-413b-4655-850b-38c6efa5dd7b",
   "metadata": {},
   "source": [
    "<h3>insight 9: Car really have some issue, it is shown that on single and dual carriageway car followed by van and bus is more likely to cause an accident.</h3>"
   ]
  },
  {
   "cell_type": "markdown",
   "id": "25dd54b2-ee62-4003-b605-0a242119e49c",
   "metadata": {},
   "source": [
    "<h1></h1>"
   ]
  },
  {
   "cell_type": "markdown",
   "id": "d6c46cc9-33ef-4936-968d-c6e110c0a049",
   "metadata": {
    "jp-MarkdownHeadingCollapsed": true
   },
   "source": [
    "<h1>10. Let's stop on Car and start looking at District Area</h1>\n",
    "<h2>Which Disctrict is more likely to have an accident in urban and rural</h2>"
   ]
  },
  {
   "cell_type": "code",
   "execution_count": 44,
   "id": "0b0819bd-af7f-4af3-bfd2-baa03002656d",
   "metadata": {},
   "outputs": [
    {
     "name": "stdout",
     "output_type": "stream",
     "text": [
      "Top 10 Urban Districts with the Most Accidents:\n"
     ]
    },
    {
     "data": {
      "text/html": [
       "<div>\n",
       "<style scoped>\n",
       "    .dataframe tbody tr th:only-of-type {\n",
       "        vertical-align: middle;\n",
       "    }\n",
       "\n",
       "    .dataframe tbody tr th {\n",
       "        vertical-align: top;\n",
       "    }\n",
       "\n",
       "    .dataframe thead th {\n",
       "        text-align: right;\n",
       "    }\n",
       "</style>\n",
       "<table border=\"1\" class=\"dataframe\">\n",
       "  <thead>\n",
       "    <tr style=\"text-align: right;\">\n",
       "      <th></th>\n",
       "      <th>District Area</th>\n",
       "      <th>Accident Count</th>\n",
       "      <th>Percentage</th>\n",
       "    </tr>\n",
       "  </thead>\n",
       "  <tbody>\n",
       "    <tr>\n",
       "      <th>0</th>\n",
       "      <td>Birmingham</td>\n",
       "      <td>13357</td>\n",
       "      <td>3.167583</td>\n",
       "    </tr>\n",
       "    <tr>\n",
       "      <th>1</th>\n",
       "      <td>Leeds</td>\n",
       "      <td>7124</td>\n",
       "      <td>1.689441</td>\n",
       "    </tr>\n",
       "    <tr>\n",
       "      <th>2</th>\n",
       "      <td>Manchester</td>\n",
       "      <td>6577</td>\n",
       "      <td>1.559721</td>\n",
       "    </tr>\n",
       "    <tr>\n",
       "      <th>3</th>\n",
       "      <td>Westminster</td>\n",
       "      <td>5706</td>\n",
       "      <td>1.353165</td>\n",
       "    </tr>\n",
       "    <tr>\n",
       "      <th>4</th>\n",
       "      <td>Liverpool</td>\n",
       "      <td>5539</td>\n",
       "      <td>1.313562</td>\n",
       "    </tr>\n",
       "    <tr>\n",
       "      <th>5</th>\n",
       "      <td>Bradford</td>\n",
       "      <td>5416</td>\n",
       "      <td>1.284392</td>\n",
       "    </tr>\n",
       "    <tr>\n",
       "      <th>6</th>\n",
       "      <td>Sheffield</td>\n",
       "      <td>5248</td>\n",
       "      <td>1.244552</td>\n",
       "    </tr>\n",
       "    <tr>\n",
       "      <th>7</th>\n",
       "      <td>Glasgow City</td>\n",
       "      <td>4806</td>\n",
       "      <td>1.139732</td>\n",
       "    </tr>\n",
       "    <tr>\n",
       "      <th>8</th>\n",
       "      <td>Bristol, City of</td>\n",
       "      <td>4581</td>\n",
       "      <td>1.086374</td>\n",
       "    </tr>\n",
       "    <tr>\n",
       "      <th>9</th>\n",
       "      <td>Lambeth</td>\n",
       "      <td>4241</td>\n",
       "      <td>1.005744</td>\n",
       "    </tr>\n",
       "  </tbody>\n",
       "</table>\n",
       "</div>"
      ],
      "text/plain": [
       "      District Area  Accident Count  Percentage\n",
       "0        Birmingham           13357    3.167583\n",
       "1             Leeds            7124    1.689441\n",
       "2        Manchester            6577    1.559721\n",
       "3       Westminster            5706    1.353165\n",
       "4         Liverpool            5539    1.313562\n",
       "5          Bradford            5416    1.284392\n",
       "6         Sheffield            5248    1.244552\n",
       "7      Glasgow City            4806    1.139732\n",
       "8  Bristol, City of            4581    1.086374\n",
       "9           Lambeth            4241    1.005744"
      ]
     },
     "metadata": {},
     "output_type": "display_data"
    },
    {
     "name": "stdout",
     "output_type": "stream",
     "text": [
      "\n",
      "Top 10 Rural Districts with the Most Accidents:\n"
     ]
    },
    {
     "data": {
      "text/html": [
       "<div>\n",
       "<style scoped>\n",
       "    .dataframe tbody tr th:only-of-type {\n",
       "        vertical-align: middle;\n",
       "    }\n",
       "\n",
       "    .dataframe tbody tr th {\n",
       "        vertical-align: top;\n",
       "    }\n",
       "\n",
       "    .dataframe thead th {\n",
       "        text-align: right;\n",
       "    }\n",
       "</style>\n",
       "<table border=\"1\" class=\"dataframe\">\n",
       "  <thead>\n",
       "    <tr style=\"text-align: right;\">\n",
       "      <th></th>\n",
       "      <th>District Area</th>\n",
       "      <th>Accident Count</th>\n",
       "      <th>Percentage</th>\n",
       "    </tr>\n",
       "  </thead>\n",
       "  <tbody>\n",
       "    <tr>\n",
       "      <th>0</th>\n",
       "      <td>East Riding of Yorkshire</td>\n",
       "      <td>2364</td>\n",
       "      <td>0.989163</td>\n",
       "    </tr>\n",
       "    <tr>\n",
       "      <th>1</th>\n",
       "      <td>Cornwall</td>\n",
       "      <td>1992</td>\n",
       "      <td>0.833508</td>\n",
       "    </tr>\n",
       "    <tr>\n",
       "      <th>2</th>\n",
       "      <td>Highland</td>\n",
       "      <td>1811</td>\n",
       "      <td>0.757772</td>\n",
       "    </tr>\n",
       "    <tr>\n",
       "      <th>3</th>\n",
       "      <td>South Cambridgeshire</td>\n",
       "      <td>1803</td>\n",
       "      <td>0.754425</td>\n",
       "    </tr>\n",
       "    <tr>\n",
       "      <th>4</th>\n",
       "      <td>Aberdeenshire</td>\n",
       "      <td>1781</td>\n",
       "      <td>0.745219</td>\n",
       "    </tr>\n",
       "    <tr>\n",
       "      <th>5</th>\n",
       "      <td>Leeds</td>\n",
       "      <td>1774</td>\n",
       "      <td>0.742290</td>\n",
       "    </tr>\n",
       "    <tr>\n",
       "      <th>6</th>\n",
       "      <td>Powys</td>\n",
       "      <td>1692</td>\n",
       "      <td>0.707979</td>\n",
       "    </tr>\n",
       "    <tr>\n",
       "      <th>7</th>\n",
       "      <td>Huntingdonshire</td>\n",
       "      <td>1673</td>\n",
       "      <td>0.700029</td>\n",
       "    </tr>\n",
       "    <tr>\n",
       "      <th>8</th>\n",
       "      <td>East Lindsey</td>\n",
       "      <td>1538</td>\n",
       "      <td>0.643542</td>\n",
       "    </tr>\n",
       "    <tr>\n",
       "      <th>9</th>\n",
       "      <td>Carmarthenshire</td>\n",
       "      <td>1527</td>\n",
       "      <td>0.638939</td>\n",
       "    </tr>\n",
       "  </tbody>\n",
       "</table>\n",
       "</div>"
      ],
      "text/plain": [
       "              District Area  Accident Count  Percentage\n",
       "0  East Riding of Yorkshire            2364    0.989163\n",
       "1                  Cornwall            1992    0.833508\n",
       "2                  Highland            1811    0.757772\n",
       "3      South Cambridgeshire            1803    0.754425\n",
       "4             Aberdeenshire            1781    0.745219\n",
       "5                     Leeds            1774    0.742290\n",
       "6                     Powys            1692    0.707979\n",
       "7           Huntingdonshire            1673    0.700029\n",
       "8              East Lindsey            1538    0.643542\n",
       "9           Carmarthenshire            1527    0.638939"
      ]
     },
     "metadata": {},
     "output_type": "display_data"
    }
   ],
   "source": [
    "urban = accident[accident['Urban_or_Rural_Area'] == 'Urban']\n",
    "urban_count = urban['District Area'].value_counts()\n",
    "urban_total = urban_count.sum()\n",
    "urban_percent = (urban_count / urban_total) * 100\n",
    "\n",
    "urban_df = pd.DataFrame({'District Area': urban_count.index, 'Accident Count': urban_count.values, 'Percentage': urban_percent.values})\n",
    "urban_df = urban_df.head(10).reset_index(drop=True)\n",
    "\n",
    "rural = accident[accident['Urban_or_Rural_Area'] == 'Rural']\n",
    "rural_count = rural['District Area'].value_counts()\n",
    "rural_total = rural_count.sum()\n",
    "rural_percent = (rural_count / rural_total) * 100\n",
    "\n",
    "rural_df = pd.DataFrame({'District Area': rural_count.index, 'Accident Count': rural_count.values, 'Percentage': rural_percent.values})\n",
    "rural_df = rural_df.head(10).reset_index(drop=True)\n",
    "\n",
    "print(\"Top 10 Urban Districts with the Most Accidents:\")\n",
    "display(urban_df)\n",
    "\n",
    "print(\"\\nTop 10 Rural Districts with the Most Accidents:\")\n",
    "display(rural_df)"
   ]
  },
  {
   "cell_type": "code",
   "execution_count": 45,
   "id": "0e1a900a-53ba-439a-a062-333586fbd5ef",
   "metadata": {},
   "outputs": [
    {
     "data": {
      "text/plain": [
       "np.int64(660679)"
      ]
     },
     "execution_count": 45,
     "metadata": {},
     "output_type": "execute_result"
    }
   ],
   "source": [
    "count.sum()"
   ]
  },
  {
   "cell_type": "markdown",
   "id": "10969ca7-146b-424c-9f39-f99d461b96fb",
   "metadata": {},
   "source": [
    "<h3>Insight 10: As we can see the data shows that Birmingham was most likely to have an accident in urban area as 3% of the accident being record in urban area was in Birmingham</h3>\n",
    "<h3> on the other hand in rural area, East Riding of Yorkshire was most likely to have an accident with 1% of the accident in the rural area happened on East Riding of Yorkshire</h3>"
   ]
  },
  {
   "cell_type": "markdown",
   "id": "a7b34447-6872-4bcb-ba93-3b24cc6c7996",
   "metadata": {},
   "source": [
    "<h1></h1>"
   ]
  },
  {
   "cell_type": "markdown",
   "id": "9de7f2be-78d1-4d3a-8e8f-97f6def3b259",
   "metadata": {
    "jp-MarkdownHeadingCollapsed": true
   },
   "source": [
    "<h1>11. now, Which Disctrict area have the record with the most casualties involved? and Which is the District have the least number of casualties involved</h1>"
   ]
  },
  {
   "cell_type": "code",
   "execution_count": 46,
   "id": "43e2fa36-ebad-49af-bb67-190920e13ee7",
   "metadata": {},
   "outputs": [
    {
     "name": "stdout",
     "output_type": "stream",
     "text": [
      "Total Number of Casualties: 896568\n"
     ]
    }
   ],
   "source": [
    "total_casualties = accident['Number_of_Casualties'].sum()\n",
    "print(\"Total Number of Casualties:\", total_casualties)"
   ]
  },
  {
   "cell_type": "code",
   "execution_count": 47,
   "id": "531d8aca-1347-4e0d-9058-8813876eae2f",
   "metadata": {},
   "outputs": [
    {
     "data": {
      "text/plain": [
       "District Area\n",
       "Birmingham    2.082831\n",
       "Leeds         1.387290\n",
       "Manchester    1.052569\n",
       "Bradford      1.033720\n",
       "Liverpool     0.966909\n",
       "Name: Number_of_Casualties, dtype: float64"
      ]
     },
     "execution_count": 47,
     "metadata": {},
     "output_type": "execute_result"
    }
   ],
   "source": [
    "num = accident.groupby('District Area')['Number_of_Casualties'].sum()\n",
    "total = num.sum()\n",
    "percent = (num / total) * 100\n",
    "percent.nlargest(5)"
   ]
  },
  {
   "cell_type": "code",
   "execution_count": 48,
   "id": "1785f9f5-534d-46de-9a77-7be8c2f0e03a",
   "metadata": {},
   "outputs": [
    {
     "data": {
      "text/plain": [
       "District Area\n",
       "Birmingham    18674\n",
       "Leeds         12438\n",
       "Manchester     9437\n",
       "Bradford       9268\n",
       "Liverpool      8669\n",
       "Name: Number_of_Casualties, dtype: int64"
      ]
     },
     "execution_count": 48,
     "metadata": {},
     "output_type": "execute_result"
    }
   ],
   "source": [
    "num.nlargest(5)"
   ]
  },
  {
   "cell_type": "code",
   "execution_count": 49,
   "id": "ed68cd9b-8dde-49cd-9221-3a663c41497d",
   "metadata": {},
   "outputs": [
    {
     "data": {
      "text/plain": [
       "District Area\n",
       "Clackmannanshire             115\n",
       "Orkney Islands               154\n",
       "Shetland Islands             202\n",
       "Clackmannshire               204\n",
       "London Airport (Heathrow)    217\n",
       "Berwick-upon-Tweed           222\n",
       "Teesdale                     222\n",
       "Western Isles                249\n",
       "South Shropshire             324\n",
       "Alnwick                      351\n",
       "Name: Number_of_Casualties, dtype: int64"
      ]
     },
     "execution_count": 49,
     "metadata": {},
     "output_type": "execute_result"
    }
   ],
   "source": [
    "accident.groupby('District Area')['Number_of_Casualties'].sum().nsmallest(10)"
   ]
  },
  {
   "cell_type": "code",
   "execution_count": 50,
   "id": "856f78fa-168a-46e7-a29d-e670118fbd4b",
   "metadata": {},
   "outputs": [
    {
     "name": "stdout",
     "output_type": "stream",
     "text": [
      "Top 5 Districts with the Most Casualties:\n"
     ]
    },
    {
     "data": {
      "text/html": [
       "<div>\n",
       "<style scoped>\n",
       "    .dataframe tbody tr th:only-of-type {\n",
       "        vertical-align: middle;\n",
       "    }\n",
       "\n",
       "    .dataframe tbody tr th {\n",
       "        vertical-align: top;\n",
       "    }\n",
       "\n",
       "    .dataframe thead th {\n",
       "        text-align: right;\n",
       "    }\n",
       "</style>\n",
       "<table border=\"1\" class=\"dataframe\">\n",
       "  <thead>\n",
       "    <tr style=\"text-align: right;\">\n",
       "      <th></th>\n",
       "      <th>District Area</th>\n",
       "      <th>Total Casualties</th>\n",
       "    </tr>\n",
       "  </thead>\n",
       "  <tbody>\n",
       "    <tr>\n",
       "      <th>0</th>\n",
       "      <td>Birmingham</td>\n",
       "      <td>18674</td>\n",
       "    </tr>\n",
       "    <tr>\n",
       "      <th>1</th>\n",
       "      <td>Leeds</td>\n",
       "      <td>12438</td>\n",
       "    </tr>\n",
       "    <tr>\n",
       "      <th>2</th>\n",
       "      <td>Manchester</td>\n",
       "      <td>9437</td>\n",
       "    </tr>\n",
       "    <tr>\n",
       "      <th>3</th>\n",
       "      <td>Bradford</td>\n",
       "      <td>9268</td>\n",
       "    </tr>\n",
       "    <tr>\n",
       "      <th>4</th>\n",
       "      <td>Liverpool</td>\n",
       "      <td>8669</td>\n",
       "    </tr>\n",
       "  </tbody>\n",
       "</table>\n",
       "</div>"
      ],
      "text/plain": [
       "  District Area  Total Casualties\n",
       "0    Birmingham             18674\n",
       "1         Leeds             12438\n",
       "2    Manchester              9437\n",
       "3      Bradford              9268\n",
       "4     Liverpool              8669"
      ]
     },
     "metadata": {},
     "output_type": "display_data"
    },
    {
     "name": "stdout",
     "output_type": "stream",
     "text": [
      "\n",
      "Bottom 10 Districts with the Least Casualties:\n"
     ]
    },
    {
     "data": {
      "text/html": [
       "<div>\n",
       "<style scoped>\n",
       "    .dataframe tbody tr th:only-of-type {\n",
       "        vertical-align: middle;\n",
       "    }\n",
       "\n",
       "    .dataframe tbody tr th {\n",
       "        vertical-align: top;\n",
       "    }\n",
       "\n",
       "    .dataframe thead th {\n",
       "        text-align: right;\n",
       "    }\n",
       "</style>\n",
       "<table border=\"1\" class=\"dataframe\">\n",
       "  <thead>\n",
       "    <tr style=\"text-align: right;\">\n",
       "      <th></th>\n",
       "      <th>District Area</th>\n",
       "      <th>Total Casualties</th>\n",
       "    </tr>\n",
       "  </thead>\n",
       "  <tbody>\n",
       "    <tr>\n",
       "      <th>0</th>\n",
       "      <td>Clackmannanshire</td>\n",
       "      <td>115</td>\n",
       "    </tr>\n",
       "    <tr>\n",
       "      <th>1</th>\n",
       "      <td>Orkney Islands</td>\n",
       "      <td>154</td>\n",
       "    </tr>\n",
       "    <tr>\n",
       "      <th>2</th>\n",
       "      <td>Shetland Islands</td>\n",
       "      <td>202</td>\n",
       "    </tr>\n",
       "    <tr>\n",
       "      <th>3</th>\n",
       "      <td>Clackmannshire</td>\n",
       "      <td>204</td>\n",
       "    </tr>\n",
       "    <tr>\n",
       "      <th>4</th>\n",
       "      <td>London Airport (Heathrow)</td>\n",
       "      <td>217</td>\n",
       "    </tr>\n",
       "  </tbody>\n",
       "</table>\n",
       "</div>"
      ],
      "text/plain": [
       "               District Area  Total Casualties\n",
       "0           Clackmannanshire               115\n",
       "1             Orkney Islands               154\n",
       "2           Shetland Islands               202\n",
       "3             Clackmannshire               204\n",
       "4  London Airport (Heathrow)               217"
      ]
     },
     "metadata": {},
     "output_type": "display_data"
    }
   ],
   "source": [
    "num = accident.groupby('District Area')['Number_of_Casualties'].sum()\n",
    "\n",
    "# Get top 5 and bottom 10 districts\n",
    "top_5 = num.nlargest(5)\n",
    "bottom_5 = num.nsmallest(5)\n",
    "\n",
    "# Convert to DataFrame for better display\n",
    "top_5_df = top_5.reset_index().rename(columns={'Number_of_Casualties': 'Total Casualties'})\n",
    "bottom_5_df = bottom_5.reset_index().rename(columns={'Number_of_Casualties': 'Total Casualties'})\n",
    "\n",
    "# Display tables\n",
    "print(\"Top 5 Districts with the Most Casualties:\")\n",
    "display(top_5_df)\n",
    "\n",
    "print(\"\\nBottom 10 Districts with the Least Casualties:\")\n",
    "display(bottom_5_df)"
   ]
  },
  {
   "cell_type": "markdown",
   "id": "b4aedba1-b314-4b07-8877-79cdfb23d547",
   "metadata": {},
   "source": [
    "<h3>Insight 11: The data indicates that out of 89.7K total recorded casualties, 2% occurred in Birmingham, totaling 18,674 casualties in that district.</h3>\n",
    "<h3>Meanwhile, Clackmannanshire recorded the fewest casualties, with only 115 throughout the entire dataset.</h3>"
   ]
  },
  {
   "cell_type": "markdown",
   "id": "47cdbcda-2b5d-4648-9948-fea3392da7e7",
   "metadata": {},
   "source": [
    "<h1></h1>"
   ]
  },
  {
   "cell_type": "markdown",
   "id": "2fa8f545-a668-4a31-9c3a-a6a76c7f38f4",
   "metadata": {
    "jp-MarkdownHeadingCollapsed": true
   },
   "source": [
    "<h1>12. Which district have the most vehicle accident involve and what type of vehicle always cause an accident in that destrict (beside car)</h1>"
   ]
  },
  {
   "cell_type": "code",
   "execution_count": 51,
   "id": "eec0c5d7-da83-4649-b5f0-a17a7b9f69cb",
   "metadata": {},
   "outputs": [
    {
     "name": "stdout",
     "output_type": "stream",
     "text": [
      "District with the most vehicles involved in accidents: Birmingham (24869 vehicles)\n",
      "The Car, known to be the most problematic vehicle, has a record in Birmingham: Car (9600 times, 71.16%)\n",
      "Most common vehicle type involved (besides cars) in Birmingham: Van / Goods 3.5 tonnes mgw or under (785 times, 5.82%)\n"
     ]
    }
   ],
   "source": [
    "veh_per_dist = accident.groupby('District Area')['Number_of_Vehicles'].sum()\n",
    "top_dist = veh_per_dist.idxmax()\n",
    "top_veh_count = veh_per_dist.max()\n",
    "\n",
    "print(f\"District with the most vehicles involved in accidents: {top_dist} ({top_veh_count} vehicles)\")\n",
    "\n",
    "dist_data = accident[accident['District Area'] == top_dist]\n",
    "\n",
    "car = dist_data['Vehicle_Type'].value_counts().idxmax()\n",
    "car_count = dist_data['Vehicle_Type'].value_counts().max()\n",
    "car_pct = (car_count / dist_data.shape[0]) * 100\n",
    "\n",
    "non_car = dist_data[dist_data['Vehicle_Type'] != 'Car']\n",
    "non_car_type = non_car['Vehicle_Type'].value_counts().idxmax()\n",
    "non_car_count = non_car['Vehicle_Type'].value_counts().max()\n",
    "non_car_pct = (non_car_count / dist_data.shape[0]) * 100\n",
    "\n",
    "\n",
    "print(f\"The Car, known to be the most problematic vehicle, has a record in {top_dist}: {car} ({car_count} times, {car_pct:.2f}%)\")\n",
    "print(f\"Most common vehicle type involved (besides cars) in {top_dist}: {non_car_type} ({non_car_count} times, {non_car_pct:.2f}%)\")\n"
   ]
  },
  {
   "cell_type": "markdown",
   "id": "51f94122-07f5-4bfd-a427-3c94b49d2bcd",
   "metadata": {},
   "source": [
    "<h3>Insight 12: The data reveals that Birmingham has the highest number of car accidents, with cars accounting for 71% of all recorded incidents. Additionally, Vans/Goods vehicles (3.5 tonnes mgw or under) rank second but contribute to only 6% of the total accidents.</h3>"
   ]
  },
  {
   "cell_type": "markdown",
   "id": "9deeccf5-b86b-4aa0-b1c8-a6a723be6dfc",
   "metadata": {},
   "source": [
    "<h3></h3>"
   ]
  },
  {
   "cell_type": "markdown",
   "id": "43e20745-db40-478e-ac49-949890608b06",
   "metadata": {
    "jp-MarkdownHeadingCollapsed": true
   },
   "source": [
    "<h1></h1>"
   ]
  },
  {
   "cell_type": "markdown",
   "id": "61b0adc5-0b05-4d56-9a51-4a5a6a16ab49",
   "metadata": {
    "jp-MarkdownHeadingCollapsed": true
   },
   "source": [
    "<h2>I think We had enough of cars record, let's talk about time and dates</h2>\n",
    "<h1>13. How about looking at which year had the most accident happened through out the whole record, is there an improvement each year or the accident is just getting worse?</h1>"
   ]
  },
  {
   "cell_type": "code",
   "execution_count": 52,
   "id": "37f5c18d-b7b7-4d8f-8624-18544c014b07",
   "metadata": {},
   "outputs": [
    {
     "data": {
      "text/plain": [
       "Year\n",
       "2019.0    71867\n",
       "2020.0    70163\n",
       "2021.0    66172\n",
       "2022.0    56805\n",
       "Name: count, dtype: int64"
      ]
     },
     "execution_count": 52,
     "metadata": {},
     "output_type": "execute_result"
    }
   ],
   "source": [
    "accident['Year'] = accident['Accident Date'].dt.year\n",
    "accident['Year'].value_counts()"
   ]
  },
  {
   "cell_type": "markdown",
   "id": "e7e20cdb-c1f6-4f17-af8e-1319669799a9",
   "metadata": {},
   "source": [
    "<h3>Insight 13: The data shows a consistent decline in the number of accidents each year, indicating an overall improvement in road safety over time.</h3>"
   ]
  },
  {
   "cell_type": "markdown",
   "id": "3fd0fd6f-bf87-4d12-98f7-1ef096cdaefb",
   "metadata": {
    "jp-MarkdownHeadingCollapsed": true
   },
   "source": [
    "<h1></h1>"
   ]
  },
  {
   "cell_type": "markdown",
   "id": "34da555c-6ce8-4392-81ec-d805514fe9de",
   "metadata": {
    "jp-MarkdownHeadingCollapsed": true
   },
   "source": [
    "<h1>14. How about Per month, which month is have more accident happened or more likely to have an accident?</h1>"
   ]
  },
  {
   "cell_type": "code",
   "execution_count": 53,
   "id": "1b597968-4192-49c2-a347-88dffe5ceab0",
   "metadata": {},
   "outputs": [
    {
     "data": {
      "text/plain": [
       "Month\n",
       "11.0    24240\n",
       "12.0    24156\n",
       "10.0    23962\n",
       "7.0     22939\n",
       "9.0     22558\n",
       "2.0     22264\n",
       "6.0     22196\n",
       "3.0     21824\n",
       "5.0     21723\n",
       "8.0     21106\n",
       "4.0     19787\n",
       "1.0     18252\n",
       "Name: count, dtype: int64"
      ]
     },
     "execution_count": 53,
     "metadata": {},
     "output_type": "execute_result"
    }
   ],
   "source": [
    "accident['Month'] = accident['Accident Date'].dt.month\n",
    "accident['Month'].value_counts()"
   ]
  },
  {
   "cell_type": "markdown",
   "id": "d51deb85-6df2-46ea-839e-158af559880c",
   "metadata": {},
   "source": [
    "<h3>Insight 14: The data shows that November and December the highest number of accidents, while January and April have the lowest, indicating seasonal variations in accident trends.</h3>"
   ]
  },
  {
   "cell_type": "markdown",
   "id": "d4de3ae3-2161-41e2-8dec-05aff77c75a2",
   "metadata": {},
   "source": [
    "<h1></h1>"
   ]
  },
  {
   "cell_type": "markdown",
   "id": "191c0613-bf68-4753-a795-884e070a199d",
   "metadata": {
    "jp-MarkdownHeadingCollapsed": true
   },
   "source": [
    "<h1>15. How about which district have more accident each year?</h1>"
   ]
  },
  {
   "cell_type": "code",
   "execution_count": 54,
   "id": "f9cf59ea-ee80-4de7-9dec-4a8d904a0d5d",
   "metadata": {},
   "outputs": [
    {
     "name": "stdout",
     "output_type": "stream",
     "text": [
      "\n",
      "Top 10 Districts with Most Accidents in 2019:\n",
      "\n",
      "District Area\n",
      "Birmingham            1554\n",
      "Leeds                  950\n",
      "Glasgow City           721\n",
      "Manchester             684\n",
      "Liverpool              628\n",
      "Sheffield              616\n",
      "Bradford               614\n",
      "Westminster            608\n",
      "Bristol, City of       557\n",
      "Edinburgh, City of     524\n",
      "dtype: int64\n",
      "--------------------------------------------------\n",
      "\n",
      "Top 10 Districts with Most Accidents in 2020:\n",
      "\n",
      "District Area\n",
      "Birmingham            1438\n",
      "Leeds                  921\n",
      "Manchester             721\n",
      "Glasgow City           676\n",
      "Sheffield              600\n",
      "Liverpool              597\n",
      "Bradford               587\n",
      "Westminster            579\n",
      "Edinburgh, City of     547\n",
      "Kirklees               524\n",
      "dtype: int64\n",
      "--------------------------------------------------\n",
      "\n",
      "Top 10 Districts with Most Accidents in 2021:\n",
      "\n",
      "District Area\n",
      "Birmingham            1308\n",
      "Leeds                  914\n",
      "Manchester             690\n",
      "Bradford               641\n",
      "Sheffield              614\n",
      "Glasgow City           598\n",
      "Liverpool              544\n",
      "Westminster            537\n",
      "Cornwall               502\n",
      "Edinburgh, City of     471\n",
      "dtype: int64\n",
      "--------------------------------------------------\n",
      "\n",
      "Top 10 Districts with Most Accidents in 2022:\n",
      "\n",
      "District Area\n",
      "Birmingham          1145\n",
      "Leeds                766\n",
      "Manchester           555\n",
      "Bradford             550\n",
      "Westminster          545\n",
      "Cornwall             539\n",
      "Liverpool            522\n",
      "Sheffield            520\n",
      "Bristol, City of     463\n",
      "Barnet               462\n",
      "dtype: int64\n",
      "--------------------------------------------------\n"
     ]
    }
   ],
   "source": [
    "accident['Year'] = accident['Accident Date'].dt.year  \n",
    "top_districts_per_year = {}\n",
    "years = [2019, 2020, 2021, 2022]\n",
    "\n",
    "for year in years:\n",
    "    top_districts_per_year[year] = (\n",
    "        accident[accident['Year'] == year]\n",
    "        .groupby('District Area')\n",
    "        .size()\n",
    "        .nlargest(10)\n",
    "    )\n",
    "\n",
    "for year, data in top_districts_per_year.items():\n",
    "    print(f\"\\nTop 10 Districts with Most Accidents in {year}:\\n\")\n",
    "    print(data)\n",
    "    print(\"-\" * 50)\n"
   ]
  },
  {
   "cell_type": "markdown",
   "id": "61ec81e0-9ea2-4459-8f9e-1ecbeee8b00e",
   "metadata": {},
   "source": [
    "<h3>Insight 15: From 2019 to 2022, Birmingham consistently recorded the highest number of accidents each year, making it the most accident-prone district. Leeds and Manchester also appeared among the top 3 districts with the most accidents in all four years, highlighting persistent accident hotspots in these urban areas.</h3>"
   ]
  },
  {
   "cell_type": "markdown",
   "id": "349ddce0-4b2a-4f26-8b1d-9994dd886105",
   "metadata": {},
   "source": [
    "<h1></h1>"
   ]
  },
  {
   "cell_type": "markdown",
   "id": "6a6181ea-08f8-47b2-b072-81bfb6aad0ca",
   "metadata": {
    "jp-MarkdownHeadingCollapsed": true
   },
   "source": [
    "<h1>16. How do seasonal changes affect the number of road accidents throughout the year? </h1>"
   ]
  },
  {
   "cell_type": "code",
   "execution_count": 55,
   "id": "44b65572-4def-4f86-bce3-9a4073a09e34",
   "metadata": {},
   "outputs": [],
   "source": [
    "def get_season(month):\n",
    "    if month in [12, 1, 2]:\n",
    "        return 'Winter'\n",
    "    elif month in [3, 4, 5]:\n",
    "        return 'Spring'\n",
    "    elif month in [6, 7, 8]:\n",
    "        return 'Summer'\n",
    "    else:\n",
    "        return 'Fall'\n",
    "\n",
    "accident['Season'] = accident['Accident Date'].dt.month.apply(get_season)"
   ]
  },
  {
   "cell_type": "code",
   "execution_count": 56,
   "id": "039d3dfb-4dbd-491e-b65e-2703b3cd959d",
   "metadata": {},
   "outputs": [
    {
     "data": {
      "text/plain": [
       "Season\n",
       "Winter     64672\n",
       "Spring     63334\n",
       "Summer     66241\n",
       "Fall      466432\n",
       "Name: count, dtype: int64"
      ]
     },
     "execution_count": 56,
     "metadata": {},
     "output_type": "execute_result"
    }
   ],
   "source": [
    "accident['Season'].value_counts().reindex(['Winter', 'Spring', 'Summer', 'Fall'])"
   ]
  },
  {
   "cell_type": "markdown",
   "id": "dc89b09a-f03b-4824-936f-b02c3ddd96fb",
   "metadata": {},
   "source": [
    "<h3>Insight 16: The data reveals a significant seasonal pattern in accidents, with fall recording the highest number of incidents. This may be due to factors like reduced daylight, wet road conditions, and increased traffic activity. Meanwhile, winter, spring, and summer show relatively lower accident counts.</h3>"
   ]
  },
  {
   "cell_type": "markdown",
   "id": "b0bd39e5-1a80-4b24-be24-d795e73d45f1",
   "metadata": {},
   "source": [
    "<h1></h1>"
   ]
  },
  {
   "cell_type": "markdown",
   "id": "e311ceb2-afc8-467e-9622-81d2451a4ebb",
   "metadata": {
    "jp-MarkdownHeadingCollapsed": true
   },
   "source": [
    "<h1>17. Do poor lighting conditions or hazardous road surfaces contribute to the high number of accidents in the fall season?</h1>"
   ]
  },
  {
   "cell_type": "code",
   "execution_count": 57,
   "id": "16781c2f-40c4-410b-99fd-d7154dce825a",
   "metadata": {},
   "outputs": [
    {
     "data": {
      "text/html": [
       "<div>\n",
       "<style scoped>\n",
       "    .dataframe tbody tr th:only-of-type {\n",
       "        vertical-align: middle;\n",
       "    }\n",
       "\n",
       "    .dataframe tbody tr th {\n",
       "        vertical-align: top;\n",
       "    }\n",
       "\n",
       "    .dataframe thead th {\n",
       "        text-align: right;\n",
       "    }\n",
       "</style>\n",
       "<table border=\"1\" class=\"dataframe\">\n",
       "  <thead>\n",
       "    <tr style=\"text-align: right;\">\n",
       "      <th>Light_Conditions</th>\n",
       "      <th>Darkness - lighting unknown</th>\n",
       "      <th>Darkness - lights lit</th>\n",
       "      <th>Darkness - lights unlit</th>\n",
       "      <th>Darkness - no lighting</th>\n",
       "      <th>Daylight</th>\n",
       "    </tr>\n",
       "    <tr>\n",
       "      <th>Season</th>\n",
       "      <th></th>\n",
       "      <th></th>\n",
       "      <th></th>\n",
       "      <th></th>\n",
       "      <th></th>\n",
       "    </tr>\n",
       "  </thead>\n",
       "  <tbody>\n",
       "    <tr>\n",
       "      <th>Fall</th>\n",
       "      <td>4650</td>\n",
       "      <td>93412</td>\n",
       "      <td>1815</td>\n",
       "      <td>26740</td>\n",
       "      <td>339815</td>\n",
       "    </tr>\n",
       "    <tr>\n",
       "      <th>Spring</th>\n",
       "      <td>431</td>\n",
       "      <td>9184</td>\n",
       "      <td>200</td>\n",
       "      <td>2671</td>\n",
       "      <td>50848</td>\n",
       "    </tr>\n",
       "    <tr>\n",
       "      <th>Summer</th>\n",
       "      <td>357</td>\n",
       "      <td>5907</td>\n",
       "      <td>163</td>\n",
       "      <td>1780</td>\n",
       "      <td>58034</td>\n",
       "    </tr>\n",
       "    <tr>\n",
       "      <th>Winter</th>\n",
       "      <td>1046</td>\n",
       "      <td>20832</td>\n",
       "      <td>365</td>\n",
       "      <td>6246</td>\n",
       "      <td>36183</td>\n",
       "    </tr>\n",
       "  </tbody>\n",
       "</table>\n",
       "</div>"
      ],
      "text/plain": [
       "Light_Conditions  Darkness - lighting unknown  Darkness - lights lit  \\\n",
       "Season                                                                 \n",
       "Fall                                     4650                  93412   \n",
       "Spring                                    431                   9184   \n",
       "Summer                                    357                   5907   \n",
       "Winter                                   1046                  20832   \n",
       "\n",
       "Light_Conditions  Darkness - lights unlit  Darkness - no lighting  Daylight  \n",
       "Season                                                                       \n",
       "Fall                                 1815                   26740    339815  \n",
       "Spring                                200                    2671     50848  \n",
       "Summer                                163                    1780     58034  \n",
       "Winter                                365                    6246     36183  "
      ]
     },
     "execution_count": 57,
     "metadata": {},
     "output_type": "execute_result"
    }
   ],
   "source": [
    "accident.groupby(['Season', 'Light_Conditions']).size().unstack()"
   ]
  },
  {
   "cell_type": "code",
   "execution_count": 58,
   "id": "7946006f-d0ee-408c-bb10-88053cb97ddc",
   "metadata": {},
   "outputs": [
    {
     "data": {
      "text/html": [
       "<div>\n",
       "<style scoped>\n",
       "    .dataframe tbody tr th:only-of-type {\n",
       "        vertical-align: middle;\n",
       "    }\n",
       "\n",
       "    .dataframe tbody tr th {\n",
       "        vertical-align: top;\n",
       "    }\n",
       "\n",
       "    .dataframe thead th {\n",
       "        text-align: right;\n",
       "    }\n",
       "</style>\n",
       "<table border=\"1\" class=\"dataframe\">\n",
       "  <thead>\n",
       "    <tr style=\"text-align: right;\">\n",
       "      <th>Road_Surface_Conditions</th>\n",
       "      <th>Dry</th>\n",
       "      <th>Flood over 3cm. deep</th>\n",
       "      <th>Frost or ice</th>\n",
       "      <th>Snow</th>\n",
       "      <th>Wet or damp</th>\n",
       "    </tr>\n",
       "    <tr>\n",
       "      <th>Season</th>\n",
       "      <th></th>\n",
       "      <th></th>\n",
       "      <th></th>\n",
       "      <th></th>\n",
       "      <th></th>\n",
       "    </tr>\n",
       "  </thead>\n",
       "  <tbody>\n",
       "    <tr>\n",
       "      <th>Fall</th>\n",
       "      <td>318106</td>\n",
       "      <td>753</td>\n",
       "      <td>9466</td>\n",
       "      <td>3003</td>\n",
       "      <td>135104</td>\n",
       "    </tr>\n",
       "    <tr>\n",
       "      <th>Spring</th>\n",
       "      <td>51722</td>\n",
       "      <td>47</td>\n",
       "      <td>576</td>\n",
       "      <td>199</td>\n",
       "      <td>10790</td>\n",
       "    </tr>\n",
       "    <tr>\n",
       "      <th>Summer</th>\n",
       "      <td>53218</td>\n",
       "      <td>106</td>\n",
       "      <td>6</td>\n",
       "      <td>11</td>\n",
       "      <td>12900</td>\n",
       "    </tr>\n",
       "    <tr>\n",
       "      <th>Winter</th>\n",
       "      <td>25501</td>\n",
       "      <td>111</td>\n",
       "      <td>8469</td>\n",
       "      <td>2677</td>\n",
       "      <td>27914</td>\n",
       "    </tr>\n",
       "  </tbody>\n",
       "</table>\n",
       "</div>"
      ],
      "text/plain": [
       "Road_Surface_Conditions     Dry  Flood over 3cm. deep  Frost or ice  Snow  \\\n",
       "Season                                                                      \n",
       "Fall                     318106                   753          9466  3003   \n",
       "Spring                    51722                    47           576   199   \n",
       "Summer                    53218                   106             6    11   \n",
       "Winter                    25501                   111          8469  2677   \n",
       "\n",
       "Road_Surface_Conditions  Wet or damp  \n",
       "Season                                \n",
       "Fall                          135104  \n",
       "Spring                         10790  \n",
       "Summer                         12900  \n",
       "Winter                         27914  "
      ]
     },
     "execution_count": 58,
     "metadata": {},
     "output_type": "execute_result"
    }
   ],
   "source": [
    "accident.groupby(['Season', 'Road_Surface_Conditions']).size().unstack()"
   ]
  },
  {
   "cell_type": "code",
   "execution_count": 59,
   "id": "6b04a17d-bd4d-4a22-af5f-edbd8f5af280",
   "metadata": {},
   "outputs": [
    {
     "data": {
      "text/html": [
       "<div>\n",
       "<style scoped>\n",
       "    .dataframe tbody tr th:only-of-type {\n",
       "        vertical-align: middle;\n",
       "    }\n",
       "\n",
       "    .dataframe tbody tr th {\n",
       "        vertical-align: top;\n",
       "    }\n",
       "\n",
       "    .dataframe thead th {\n",
       "        text-align: right;\n",
       "    }\n",
       "</style>\n",
       "<table border=\"1\" class=\"dataframe\">\n",
       "  <thead>\n",
       "    <tr style=\"text-align: right;\">\n",
       "      <th>Weather_Conditions</th>\n",
       "      <th>Fine + high winds</th>\n",
       "      <th>Fine no high winds</th>\n",
       "      <th>Fog or mist</th>\n",
       "      <th>Other</th>\n",
       "      <th>Raining + high winds</th>\n",
       "      <th>Raining no high winds</th>\n",
       "      <th>Snowing + high winds</th>\n",
       "      <th>Snowing no high winds</th>\n",
       "      <th>unaccounted</th>\n",
       "    </tr>\n",
       "    <tr>\n",
       "      <th>Season</th>\n",
       "      <th></th>\n",
       "      <th></th>\n",
       "      <th></th>\n",
       "      <th></th>\n",
       "      <th></th>\n",
       "      <th></th>\n",
       "      <th></th>\n",
       "      <th></th>\n",
       "      <th></th>\n",
       "    </tr>\n",
       "  </thead>\n",
       "  <tbody>\n",
       "    <tr>\n",
       "      <th>Fall</th>\n",
       "      <td>5882</td>\n",
       "      <td>367079</td>\n",
       "      <td>2618</td>\n",
       "      <td>11113</td>\n",
       "      <td>6949</td>\n",
       "      <td>59207</td>\n",
       "      <td>469</td>\n",
       "      <td>3176</td>\n",
       "      <td>9939</td>\n",
       "    </tr>\n",
       "    <tr>\n",
       "      <th>Spring</th>\n",
       "      <td>1013</td>\n",
       "      <td>54346</td>\n",
       "      <td>93</td>\n",
       "      <td>870</td>\n",
       "      <td>736</td>\n",
       "      <td>4657</td>\n",
       "      <td>47</td>\n",
       "      <td>263</td>\n",
       "      <td>1309</td>\n",
       "    </tr>\n",
       "    <tr>\n",
       "      <th>Summer</th>\n",
       "      <td>235</td>\n",
       "      <td>55609</td>\n",
       "      <td>70</td>\n",
       "      <td>748</td>\n",
       "      <td>303</td>\n",
       "      <td>7926</td>\n",
       "      <td>1</td>\n",
       "      <td>21</td>\n",
       "      <td>1328</td>\n",
       "    </tr>\n",
       "    <tr>\n",
       "      <th>Winter</th>\n",
       "      <td>1424</td>\n",
       "      <td>43851</td>\n",
       "      <td>747</td>\n",
       "      <td>4419</td>\n",
       "      <td>1627</td>\n",
       "      <td>7906</td>\n",
       "      <td>368</td>\n",
       "      <td>2778</td>\n",
       "      <td>1552</td>\n",
       "    </tr>\n",
       "  </tbody>\n",
       "</table>\n",
       "</div>"
      ],
      "text/plain": [
       "Weather_Conditions  Fine + high winds  Fine no high winds  Fog or mist  Other  \\\n",
       "Season                                                                          \n",
       "Fall                             5882              367079         2618  11113   \n",
       "Spring                           1013               54346           93    870   \n",
       "Summer                            235               55609           70    748   \n",
       "Winter                           1424               43851          747   4419   \n",
       "\n",
       "Weather_Conditions  Raining + high winds  Raining no high winds  \\\n",
       "Season                                                            \n",
       "Fall                                6949                  59207   \n",
       "Spring                               736                   4657   \n",
       "Summer                               303                   7926   \n",
       "Winter                              1627                   7906   \n",
       "\n",
       "Weather_Conditions  Snowing + high winds  Snowing no high winds  unaccounted  \n",
       "Season                                                                        \n",
       "Fall                                 469                   3176         9939  \n",
       "Spring                                47                    263         1309  \n",
       "Summer                                 1                     21         1328  \n",
       "Winter                               368                   2778         1552  "
      ]
     },
     "execution_count": 59,
     "metadata": {},
     "output_type": "execute_result"
    }
   ],
   "source": [
    "accident.groupby(['Season', 'Weather_Conditions']).size().unstack()"
   ]
  },
  {
   "cell_type": "markdown",
   "id": "208e6ebf-9493-4e12-900a-3ca9b2190986",
   "metadata": {},
   "source": [
    "<h3>Insight 17: Fall records the highest number of accidents, primarily due to wet road conditions and heavy rainfall rather than poor lighting. While darkness contributes, the data shows that most accidents occur on wet or damp roads, often during rainy weather. This suggests that slippery surfaces and reduced visibility from precipitation are key risk factors in the fall season.</h3>"
   ]
  },
  {
   "cell_type": "markdown",
   "id": "e7e75e74-4a97-421c-85b7-eae9e812f18e",
   "metadata": {},
   "source": [
    "<h1></h1>"
   ]
  },
  {
   "cell_type": "markdown",
   "id": "9c404a44-c723-4d7b-8b78-2452276b9d8e",
   "metadata": {
    "jp-MarkdownHeadingCollapsed": true
   },
   "source": [
    "<h1>18. Relationship Between Number of Vehicles and Accident Severity</h1>"
   ]
  },
  {
   "cell_type": "code",
   "execution_count": 60,
   "id": "19a278a5-2786-49b3-aa21-a908b938a564",
   "metadata": {},
   "outputs": [
    {
     "data": {
      "text/html": [
       "<div>\n",
       "<style scoped>\n",
       "    .dataframe tbody tr th:only-of-type {\n",
       "        vertical-align: middle;\n",
       "    }\n",
       "\n",
       "    .dataframe tbody tr th {\n",
       "        vertical-align: top;\n",
       "    }\n",
       "\n",
       "    .dataframe thead th {\n",
       "        text-align: right;\n",
       "    }\n",
       "</style>\n",
       "<table border=\"1\" class=\"dataframe\">\n",
       "  <thead>\n",
       "    <tr style=\"text-align: right;\">\n",
       "      <th></th>\n",
       "      <th></th>\n",
       "      <th>count</th>\n",
       "      <th>mean</th>\n",
       "      <th>std</th>\n",
       "      <th>min</th>\n",
       "      <th>25%</th>\n",
       "      <th>50%</th>\n",
       "      <th>75%</th>\n",
       "      <th>max</th>\n",
       "    </tr>\n",
       "    <tr>\n",
       "      <th>Season</th>\n",
       "      <th>Accident_Severity</th>\n",
       "      <th></th>\n",
       "      <th></th>\n",
       "      <th></th>\n",
       "      <th></th>\n",
       "      <th></th>\n",
       "      <th></th>\n",
       "      <th></th>\n",
       "      <th></th>\n",
       "    </tr>\n",
       "  </thead>\n",
       "  <tbody>\n",
       "    <tr>\n",
       "      <th rowspan=\"3\" valign=\"top\">Fall</th>\n",
       "      <th>Fatal</th>\n",
       "      <td>6067.0</td>\n",
       "      <td>1.793803</td>\n",
       "      <td>1.044592</td>\n",
       "      <td>1.0</td>\n",
       "      <td>1.0</td>\n",
       "      <td>2.0</td>\n",
       "      <td>2.0</td>\n",
       "      <td>28.0</td>\n",
       "    </tr>\n",
       "    <tr>\n",
       "      <th>Serious</th>\n",
       "      <td>62418.0</td>\n",
       "      <td>1.681262</td>\n",
       "      <td>0.752348</td>\n",
       "      <td>1.0</td>\n",
       "      <td>1.0</td>\n",
       "      <td>2.0</td>\n",
       "      <td>2.0</td>\n",
       "      <td>19.0</td>\n",
       "    </tr>\n",
       "    <tr>\n",
       "      <th>Slight</th>\n",
       "      <td>397947.0</td>\n",
       "      <td>1.857064</td>\n",
       "      <td>0.700476</td>\n",
       "      <td>1.0</td>\n",
       "      <td>1.0</td>\n",
       "      <td>2.0</td>\n",
       "      <td>2.0</td>\n",
       "      <td>32.0</td>\n",
       "    </tr>\n",
       "    <tr>\n",
       "      <th rowspan=\"3\" valign=\"top\">Spring</th>\n",
       "      <th>Fatal</th>\n",
       "      <td>893.0</td>\n",
       "      <td>1.793953</td>\n",
       "      <td>0.964672</td>\n",
       "      <td>1.0</td>\n",
       "      <td>1.0</td>\n",
       "      <td>2.0</td>\n",
       "      <td>2.0</td>\n",
       "      <td>8.0</td>\n",
       "    </tr>\n",
       "    <tr>\n",
       "      <th>Serious</th>\n",
       "      <td>8660.0</td>\n",
       "      <td>1.668245</td>\n",
       "      <td>0.744683</td>\n",
       "      <td>1.0</td>\n",
       "      <td>1.0</td>\n",
       "      <td>2.0</td>\n",
       "      <td>2.0</td>\n",
       "      <td>8.0</td>\n",
       "    </tr>\n",
       "    <tr>\n",
       "      <th>Slight</th>\n",
       "      <td>53781.0</td>\n",
       "      <td>1.858407</td>\n",
       "      <td>0.700220</td>\n",
       "      <td>1.0</td>\n",
       "      <td>1.0</td>\n",
       "      <td>2.0</td>\n",
       "      <td>2.0</td>\n",
       "      <td>14.0</td>\n",
       "    </tr>\n",
       "    <tr>\n",
       "      <th rowspan=\"3\" valign=\"top\">Summer</th>\n",
       "      <th>Fatal</th>\n",
       "      <td>867.0</td>\n",
       "      <td>1.835063</td>\n",
       "      <td>1.023632</td>\n",
       "      <td>1.0</td>\n",
       "      <td>1.0</td>\n",
       "      <td>2.0</td>\n",
       "      <td>2.0</td>\n",
       "      <td>14.0</td>\n",
       "    </tr>\n",
       "    <tr>\n",
       "      <th>Serious</th>\n",
       "      <td>9177.0</td>\n",
       "      <td>1.705023</td>\n",
       "      <td>0.721184</td>\n",
       "      <td>1.0</td>\n",
       "      <td>1.0</td>\n",
       "      <td>2.0</td>\n",
       "      <td>2.0</td>\n",
       "      <td>8.0</td>\n",
       "    </tr>\n",
       "    <tr>\n",
       "      <th>Slight</th>\n",
       "      <td>56197.0</td>\n",
       "      <td>1.870367</td>\n",
       "      <td>0.677241</td>\n",
       "      <td>1.0</td>\n",
       "      <td>1.0</td>\n",
       "      <td>2.0</td>\n",
       "      <td>2.0</td>\n",
       "      <td>10.0</td>\n",
       "    </tr>\n",
       "    <tr>\n",
       "      <th rowspan=\"3\" valign=\"top\">Winter</th>\n",
       "      <th>Fatal</th>\n",
       "      <td>834.0</td>\n",
       "      <td>1.679856</td>\n",
       "      <td>0.909812</td>\n",
       "      <td>1.0</td>\n",
       "      <td>1.0</td>\n",
       "      <td>1.0</td>\n",
       "      <td>2.0</td>\n",
       "      <td>7.0</td>\n",
       "    </tr>\n",
       "    <tr>\n",
       "      <th>Serious</th>\n",
       "      <td>7962.0</td>\n",
       "      <td>1.635519</td>\n",
       "      <td>0.783760</td>\n",
       "      <td>1.0</td>\n",
       "      <td>1.0</td>\n",
       "      <td>2.0</td>\n",
       "      <td>2.0</td>\n",
       "      <td>12.0</td>\n",
       "    </tr>\n",
       "    <tr>\n",
       "      <th>Slight</th>\n",
       "      <td>55876.0</td>\n",
       "      <td>1.830285</td>\n",
       "      <td>0.723669</td>\n",
       "      <td>1.0</td>\n",
       "      <td>1.0</td>\n",
       "      <td>2.0</td>\n",
       "      <td>2.0</td>\n",
       "      <td>14.0</td>\n",
       "    </tr>\n",
       "  </tbody>\n",
       "</table>\n",
       "</div>"
      ],
      "text/plain": [
       "                             count      mean       std  min  25%  50%  75%  \\\n",
       "Season Accident_Severity                                                     \n",
       "Fall   Fatal                6067.0  1.793803  1.044592  1.0  1.0  2.0  2.0   \n",
       "       Serious             62418.0  1.681262  0.752348  1.0  1.0  2.0  2.0   \n",
       "       Slight             397947.0  1.857064  0.700476  1.0  1.0  2.0  2.0   \n",
       "Spring Fatal                 893.0  1.793953  0.964672  1.0  1.0  2.0  2.0   \n",
       "       Serious              8660.0  1.668245  0.744683  1.0  1.0  2.0  2.0   \n",
       "       Slight              53781.0  1.858407  0.700220  1.0  1.0  2.0  2.0   \n",
       "Summer Fatal                 867.0  1.835063  1.023632  1.0  1.0  2.0  2.0   \n",
       "       Serious              9177.0  1.705023  0.721184  1.0  1.0  2.0  2.0   \n",
       "       Slight              56197.0  1.870367  0.677241  1.0  1.0  2.0  2.0   \n",
       "Winter Fatal                 834.0  1.679856  0.909812  1.0  1.0  1.0  2.0   \n",
       "       Serious              7962.0  1.635519  0.783760  1.0  1.0  2.0  2.0   \n",
       "       Slight              55876.0  1.830285  0.723669  1.0  1.0  2.0  2.0   \n",
       "\n",
       "                           max  \n",
       "Season Accident_Severity        \n",
       "Fall   Fatal              28.0  \n",
       "       Serious            19.0  \n",
       "       Slight             32.0  \n",
       "Spring Fatal               8.0  \n",
       "       Serious             8.0  \n",
       "       Slight             14.0  \n",
       "Summer Fatal              14.0  \n",
       "       Serious             8.0  \n",
       "       Slight             10.0  \n",
       "Winter Fatal               7.0  \n",
       "       Serious            12.0  \n",
       "       Slight             14.0  "
      ]
     },
     "execution_count": 60,
     "metadata": {},
     "output_type": "execute_result"
    }
   ],
   "source": [
    "accident.groupby(['Season', 'Accident_Severity'])['Number_of_Vehicles'].describe()"
   ]
  },
  {
   "cell_type": "markdown",
   "id": "e4181d9c-150e-4ebf-8c18-0dd54711b806",
   "metadata": {},
   "source": [
    "<h1></h1>"
   ]
  },
  {
   "cell_type": "markdown",
   "id": "d2b0f6af-fc4a-43fb-a38c-a35091b47831",
   "metadata": {
    "jp-MarkdownHeadingCollapsed": true
   },
   "source": [
    "<h1>19. Urban vs. Rural Accidents in Fall</h1>"
   ]
  },
  {
   "cell_type": "code",
   "execution_count": 61,
   "id": "5eb44ced-70d9-4f54-b109-5fdc84f70054",
   "metadata": {},
   "outputs": [
    {
     "data": {
      "text/plain": [
       "Urban_or_Rural_Area\n",
       "Urban          298502\n",
       "Rural          167923\n",
       "Unallocated         7\n",
       "Name: count, dtype: int64"
      ]
     },
     "execution_count": 61,
     "metadata": {},
     "output_type": "execute_result"
    }
   ],
   "source": [
    "accident[accident['Season'] == 'Fall']['Urban_or_Rural_Area'].value_counts()"
   ]
  },
  {
   "cell_type": "markdown",
   "id": "9b7341f3-7f01-4587-b46b-32d43bdb65f7",
   "metadata": {},
   "source": [
    "<h1></h1>"
   ]
  },
  {
   "cell_type": "markdown",
   "id": "b9bec741-8185-4424-aef3-b46774f18fcd",
   "metadata": {
    "jp-MarkdownHeadingCollapsed": true
   },
   "source": [
    "<h1>20. Accident Trends by Road Type</h1>"
   ]
  },
  {
   "cell_type": "code",
   "execution_count": 75,
   "id": "35b21de1-214b-4016-a5c6-361ce84bb811",
   "metadata": {},
   "outputs": [
    {
     "data": {
      "text/html": [
       "<div>\n",
       "<style scoped>\n",
       "    .dataframe tbody tr th:only-of-type {\n",
       "        vertical-align: middle;\n",
       "    }\n",
       "\n",
       "    .dataframe tbody tr th {\n",
       "        vertical-align: top;\n",
       "    }\n",
       "\n",
       "    .dataframe thead th {\n",
       "        text-align: right;\n",
       "    }\n",
       "</style>\n",
       "<table border=\"1\" class=\"dataframe\">\n",
       "  <thead>\n",
       "    <tr style=\"text-align: right;\">\n",
       "      <th>Season</th>\n",
       "      <th>Fall</th>\n",
       "      <th>Spring</th>\n",
       "      <th>Summer</th>\n",
       "      <th>Winter</th>\n",
       "    </tr>\n",
       "    <tr>\n",
       "      <th>Road_Type</th>\n",
       "      <th></th>\n",
       "      <th></th>\n",
       "      <th></th>\n",
       "      <th></th>\n",
       "    </tr>\n",
       "  </thead>\n",
       "  <tbody>\n",
       "    <tr>\n",
       "      <th>Dual carriageway</th>\n",
       "      <td>70258</td>\n",
       "      <td>9253</td>\n",
       "      <td>9626</td>\n",
       "      <td>10287</td>\n",
       "    </tr>\n",
       "    <tr>\n",
       "      <th>One way street</th>\n",
       "      <td>9582</td>\n",
       "      <td>1311</td>\n",
       "      <td>1380</td>\n",
       "      <td>1286</td>\n",
       "    </tr>\n",
       "    <tr>\n",
       "      <th>Roundabout</th>\n",
       "      <td>31279</td>\n",
       "      <td>4169</td>\n",
       "      <td>4502</td>\n",
       "      <td>4042</td>\n",
       "    </tr>\n",
       "    <tr>\n",
       "      <th>Single carriageway</th>\n",
       "      <td>347209</td>\n",
       "      <td>47482</td>\n",
       "      <td>49526</td>\n",
       "      <td>47926</td>\n",
       "    </tr>\n",
       "    <tr>\n",
       "      <th>Slip road</th>\n",
       "      <td>4944</td>\n",
       "      <td>693</td>\n",
       "      <td>685</td>\n",
       "      <td>719</td>\n",
       "    </tr>\n",
       "    <tr>\n",
       "      <th>unknown</th>\n",
       "      <td>3160</td>\n",
       "      <td>426</td>\n",
       "      <td>522</td>\n",
       "      <td>412</td>\n",
       "    </tr>\n",
       "  </tbody>\n",
       "</table>\n",
       "</div>"
      ],
      "text/plain": [
       "Season                Fall  Spring  Summer  Winter\n",
       "Road_Type                                         \n",
       "Dual carriageway     70258    9253    9626   10287\n",
       "One way street        9582    1311    1380    1286\n",
       "Roundabout           31279    4169    4502    4042\n",
       "Single carriageway  347209   47482   49526   47926\n",
       "Slip road             4944     693     685     719\n",
       "unknown               3160     426     522     412"
      ]
     },
     "execution_count": 75,
     "metadata": {},
     "output_type": "execute_result"
    }
   ],
   "source": [
    "accident.groupby(['Road_Type', 'Season']).size().unstack()"
   ]
  },
  {
   "cell_type": "markdown",
   "id": "ed712f42-88d7-44d8-a839-ad79cd3270ce",
   "metadata": {},
   "source": [
    "<h1></h1>"
   ]
  },
  {
   "cell_type": "code",
   "execution_count": 69,
   "id": "4a235349-ad0d-45ca-8f1c-b9ca40320079",
   "metadata": {},
   "outputs": [
    {
     "data": {
      "text/plain": [
       "Road_Type\n",
       "Dual carriageway      1.477279\n",
       "One way street        1.192713\n",
       "Roundabout            1.274891\n",
       "Single carriageway    1.344666\n",
       "Slip road             1.423661\n",
       "unknown               1.248230\n",
       "Name: Number_of_Casualties, dtype: float64"
      ]
     },
     "execution_count": 69,
     "metadata": {},
     "output_type": "execute_result"
    }
   ],
   "source": [
    "accident.groupby('Road_Type')['Number_of_Casualties'].mean()"
   ]
  },
  {
   "cell_type": "code",
   "execution_count": 70,
   "id": "edebcc43-266d-4a97-9802-a158c32ed086",
   "metadata": {},
   "outputs": [
    {
     "data": {
      "text/plain": [
       "'Dual carriageway'"
      ]
     },
     "execution_count": 70,
     "metadata": {},
     "output_type": "execute_result"
    }
   ],
   "source": [
    "accident.groupby('Road_Type')['Number_of_Casualties'].mean().idxmax()"
   ]
  },
  {
   "cell_type": "markdown",
   "id": "5d9a0c5c-120b-44e3-a7f6-9532336ca168",
   "metadata": {},
   "source": [
    "<h2>Insight 5: The Data Shows that Dual Carriageway Road is more likely to have casualty than the others, meaning that people either avoid the road or the City do something about the road like changing it?</h2>"
   ]
  }
 ],
 "metadata": {
  "kernelspec": {
   "display_name": "Python 3 (ipykernel)",
   "language": "python",
   "name": "python3"
  },
  "language_info": {
   "codemirror_mode": {
    "name": "ipython",
    "version": 3
   },
   "file_extension": ".py",
   "mimetype": "text/x-python",
   "name": "python",
   "nbconvert_exporter": "python",
   "pygments_lexer": "ipython3",
   "version": "3.13.2"
  }
 },
 "nbformat": 4,
 "nbformat_minor": 5
}
